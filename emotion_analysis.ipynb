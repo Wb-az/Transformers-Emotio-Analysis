{
 "cells": [
  {
   "cell_type": "markdown",
   "metadata": {
    "id": "8Bro2KJwlvjk"
   },
   "source": [
    "<h1><center> Customised BERT Family Classsifiers for Emotion Analysis</center></h1>  \n",
    "<h2><center>BERT, DistilBERT, RoBERTa</center></h2>\n",
    "\n",
    "<h3><center>INM706 - Deep Learning for Sequence Analysis </center></h3>\n",
    "\n",
    "<center>A. Ascencio-Cabral<center>\n"
   ]
  },
  {
   "cell_type": "code",
   "execution_count": 1,
   "metadata": {
    "colab": {
     "base_uri": "https://localhost:8080/"
    },
    "id": "XWFCjRWdFh7n",
    "outputId": "233f3662-ca06-4b45-cbf3-71b678113ba2"
   },
   "outputs": [
    {
     "name": "stdout",
     "output_type": "stream",
     "text": [
      "Mounted at /content/drive/\n"
     ]
    }
   ],
   "source": [
    "from google.colab import drive\n",
    "drive.mount('/content/drive/')"
   ]
  },
  {
   "cell_type": "code",
   "execution_count": 2,
   "metadata": {
    "id": "_iHmBIs161kP"
   },
   "outputs": [],
   "source": [
    "%%capture\n",
    "!pip install transformers "
   ]
  },
  {
   "cell_type": "code",
   "execution_count": 3,
   "metadata": {
    "id": "85ozZmWrxGlV"
   },
   "outputs": [],
   "source": [
    "%%capture\n",
    "!pip install torchmetrics"
   ]
  },
  {
   "cell_type": "code",
   "execution_count": 4,
   "metadata": {
    "id": "l4HPn61epgeE"
   },
   "outputs": [],
   "source": [
    "%%capture\n",
    "!pip install gensim"
   ]
  },
  {
   "cell_type": "code",
   "execution_count": 5,
   "metadata": {
    "id": "H914ZBwE3qv5"
   },
   "outputs": [],
   "source": [
    "%%capture\n",
    "!pip install emot\n",
    "!pip install scikit-posthocs"
   ]
  },
  {
   "cell_type": "markdown",
   "metadata": {
    "id": "qxoKh42Xyk9V"
   },
   "source": [
    "<h2> 1. Libraries </h2> "
   ]
  },
  {
   "cell_type": "code",
   "execution_count": 6,
   "metadata": {
    "id": "_YiuzXhLFo0D"
   },
   "outputs": [],
   "source": [
    "import os\n",
    "import matplotlib.pyplot as plt\n",
    "import pandas as pd\n",
    "import seaborn as sns\n",
    "import numpy as np\n",
    "import gensim.downloader as api\n",
    "import time\n",
    "import emot\n",
    "import torch\n",
    "import torch.nn as nn\n",
    "import torch.nn.functional as F\n",
    "from torch.utils.data import Dataset, DataLoader, SequentialSampler\n",
    "from transformers import BertModel, DistilBertModel,  RobertaModel\n",
    "from transformers import BertTokenizerFast, DistilBertTokenizerFast, RobertaTokenizerFast\n",
    "from transformers import BertConfig, DistilBertConfig, RobertaConfig\n",
    "from transformers import get_linear_schedule_with_warmup\n",
    "from collections import defaultdict\n",
    "from sklearn.model_selection import train_test_split\n",
    "from sklearn.utils import class_weight\n",
    "from torch.optim.lr_scheduler import OneCycleLR\n",
    "from datetime import date\n",
    "from tqdm import tqdm\n",
    "from natsort import natsorted\n",
    "%matplotlib inline\n",
    "seed_= 1000\n",
    "torch.manual_seed(seed_)\n",
    "np.random.seed(seed_)\n",
    "\n",
    "plt.style.use('ggplot')\n",
    "device = torch.device('cuda') if torch.cuda.is_available() else torch.device('cpu')"
   ]
  },
  {
   "cell_type": "code",
   "execution_count": 7,
   "metadata": {
    "id": "bZh9EDtg_I80"
   },
   "outputs": [],
   "source": [
    "os.chdir('/content/drive/MyDrive/INM706')"
   ]
  },
  {
   "cell_type": "code",
   "execution_count": 1,
   "metadata": {
    "id": "tKV0LJY6_pZ1"
   },
   "outputs": [],
   "source": [
    "from evaluation_metrics import Metrics, train_metrics\n",
    "from comparison import save_file, get_metrics"
   ]
  },
  {
   "cell_type": "markdown",
   "metadata": {
    "id": "WRVwAtBvGH2o"
   },
   "source": [
    "<h2> 2. Emotion Dataset </h2> \n"
   ]
  },
  {
   "cell_type": "markdown",
   "metadata": {
    "id": "tdTvyL-gOw6B"
   },
   "source": [
    "\n",
    "<h3 id=\"reviewing_data\"> 2.1 About the dataset</h3>\n",
    "\n",
    "**`emotions.csv`:** \n",
    "The dataset comprises emotional content (tweets), tweet id, author and a single categorical label per content id. It has in total 40,000 tweets of emotional content. A subset of this data was used in a project for Microsoft's Cortana Intelligence Gallery. \n",
    "The dataset was added to DataWorld on July 15, 2016 by CrowdFlower and can be sourced from:\n",
    "https://www.crowdflower.com/data-for-everyone/"
   ]
  },
  {
   "cell_type": "markdown",
   "metadata": {
    "id": "jIKc6ZovGmNp"
   },
   "source": [
    "<h3> 2.2 Downloading the dataset </h3>\n",
    "\n",
    "\n",
    "To download the data from dataworld we will use !wget\n",
    "https://query.data.world/s/m3dkicscou2wd5p2d2ejd7ivfkipsg"
   ]
  },
  {
   "cell_type": "code",
   "execution_count": null,
   "metadata": {
    "id": "mypXbm3WF0b6"
   },
   "outputs": [],
   "source": [
    "# !wget -O emotions.csv https://query.data.world/s/m3dkicscou2wd5p2d2ejd7ivfkipsg"
   ]
  },
  {
   "cell_type": "markdown",
   "metadata": {
    "id": "yrlVwvgWeGKy"
   },
   "source": [
    "<h3> 2.3 Reading the data from the CSV file </h3>  "
   ]
  },
  {
   "cell_type": "code",
   "execution_count": 9,
   "metadata": {
    "colab": {
     "base_uri": "https://localhost:8080/",
     "height": 206
    },
    "id": "JlJGWDIUGD8A",
    "outputId": "a545986c-bec4-4ad9-e5a3-8e6b817ad21f"
   },
   "outputs": [
    {
     "data": {
      "text/html": [
       "\n",
       "  <div id=\"df-92a1aa1a-d8eb-4eb1-8249-f42cfc640c78\">\n",
       "    <div class=\"colab-df-container\">\n",
       "      <div>\n",
       "<style scoped>\n",
       "    .dataframe tbody tr th:only-of-type {\n",
       "        vertical-align: middle;\n",
       "    }\n",
       "\n",
       "    .dataframe tbody tr th {\n",
       "        vertical-align: top;\n",
       "    }\n",
       "\n",
       "    .dataframe thead th {\n",
       "        text-align: right;\n",
       "    }\n",
       "</style>\n",
       "<table border=\"1\" class=\"dataframe\">\n",
       "  <thead>\n",
       "    <tr style=\"text-align: right;\">\n",
       "      <th></th>\n",
       "      <th>tweet_id</th>\n",
       "      <th>sentiment</th>\n",
       "      <th>author</th>\n",
       "      <th>content</th>\n",
       "    </tr>\n",
       "  </thead>\n",
       "  <tbody>\n",
       "    <tr>\n",
       "      <th>0</th>\n",
       "      <td>1956967341</td>\n",
       "      <td>empty</td>\n",
       "      <td>xoshayzers</td>\n",
       "      <td>@tiffanylue i know  i was listenin to bad habi...</td>\n",
       "    </tr>\n",
       "    <tr>\n",
       "      <th>1</th>\n",
       "      <td>1956967666</td>\n",
       "      <td>sadness</td>\n",
       "      <td>wannamama</td>\n",
       "      <td>Layin n bed with a headache  ughhhh...waitin o...</td>\n",
       "    </tr>\n",
       "    <tr>\n",
       "      <th>2</th>\n",
       "      <td>1956967696</td>\n",
       "      <td>sadness</td>\n",
       "      <td>coolfunky</td>\n",
       "      <td>Funeral ceremony...gloomy friday...</td>\n",
       "    </tr>\n",
       "    <tr>\n",
       "      <th>3</th>\n",
       "      <td>1956967789</td>\n",
       "      <td>enthusiasm</td>\n",
       "      <td>czareaquino</td>\n",
       "      <td>wants to hang out with friends SOON!</td>\n",
       "    </tr>\n",
       "    <tr>\n",
       "      <th>4</th>\n",
       "      <td>1956968416</td>\n",
       "      <td>neutral</td>\n",
       "      <td>xkilljoyx</td>\n",
       "      <td>@dannycastillo We want to trade with someone w...</td>\n",
       "    </tr>\n",
       "  </tbody>\n",
       "</table>\n",
       "</div>\n",
       "      <button class=\"colab-df-convert\" onclick=\"convertToInteractive('df-92a1aa1a-d8eb-4eb1-8249-f42cfc640c78')\"\n",
       "              title=\"Convert this dataframe to an interactive table.\"\n",
       "              style=\"display:none;\">\n",
       "        \n",
       "  <svg xmlns=\"http://www.w3.org/2000/svg\" height=\"24px\"viewBox=\"0 0 24 24\"\n",
       "       width=\"24px\">\n",
       "    <path d=\"M0 0h24v24H0V0z\" fill=\"none\"/>\n",
       "    <path d=\"M18.56 5.44l.94 2.06.94-2.06 2.06-.94-2.06-.94-.94-2.06-.94 2.06-2.06.94zm-11 1L8.5 8.5l.94-2.06 2.06-.94-2.06-.94L8.5 2.5l-.94 2.06-2.06.94zm10 10l.94 2.06.94-2.06 2.06-.94-2.06-.94-.94-2.06-.94 2.06-2.06.94z\"/><path d=\"M17.41 7.96l-1.37-1.37c-.4-.4-.92-.59-1.43-.59-.52 0-1.04.2-1.43.59L10.3 9.45l-7.72 7.72c-.78.78-.78 2.05 0 2.83L4 21.41c.39.39.9.59 1.41.59.51 0 1.02-.2 1.41-.59l7.78-7.78 2.81-2.81c.8-.78.8-2.07 0-2.86zM5.41 20L4 18.59l7.72-7.72 1.47 1.35L5.41 20z\"/>\n",
       "  </svg>\n",
       "      </button>\n",
       "      \n",
       "  <style>\n",
       "    .colab-df-container {\n",
       "      display:flex;\n",
       "      flex-wrap:wrap;\n",
       "      gap: 12px;\n",
       "    }\n",
       "\n",
       "    .colab-df-convert {\n",
       "      background-color: #E8F0FE;\n",
       "      border: none;\n",
       "      border-radius: 50%;\n",
       "      cursor: pointer;\n",
       "      display: none;\n",
       "      fill: #1967D2;\n",
       "      height: 32px;\n",
       "      padding: 0 0 0 0;\n",
       "      width: 32px;\n",
       "    }\n",
       "\n",
       "    .colab-df-convert:hover {\n",
       "      background-color: #E2EBFA;\n",
       "      box-shadow: 0px 1px 2px rgba(60, 64, 67, 0.3), 0px 1px 3px 1px rgba(60, 64, 67, 0.15);\n",
       "      fill: #174EA6;\n",
       "    }\n",
       "\n",
       "    [theme=dark] .colab-df-convert {\n",
       "      background-color: #3B4455;\n",
       "      fill: #D2E3FC;\n",
       "    }\n",
       "\n",
       "    [theme=dark] .colab-df-convert:hover {\n",
       "      background-color: #434B5C;\n",
       "      box-shadow: 0px 1px 3px 1px rgba(0, 0, 0, 0.15);\n",
       "      filter: drop-shadow(0px 1px 2px rgba(0, 0, 0, 0.3));\n",
       "      fill: #FFFFFF;\n",
       "    }\n",
       "  </style>\n",
       "\n",
       "      <script>\n",
       "        const buttonEl =\n",
       "          document.querySelector('#df-92a1aa1a-d8eb-4eb1-8249-f42cfc640c78 button.colab-df-convert');\n",
       "        buttonEl.style.display =\n",
       "          google.colab.kernel.accessAllowed ? 'block' : 'none';\n",
       "\n",
       "        async function convertToInteractive(key) {\n",
       "          const element = document.querySelector('#df-92a1aa1a-d8eb-4eb1-8249-f42cfc640c78');\n",
       "          const dataTable =\n",
       "            await google.colab.kernel.invokeFunction('convertToInteractive',\n",
       "                                                     [key], {});\n",
       "          if (!dataTable) return;\n",
       "\n",
       "          const docLinkHtml = 'Like what you see? Visit the ' +\n",
       "            '<a target=\"_blank\" href=https://colab.research.google.com/notebooks/data_table.ipynb>data table notebook</a>'\n",
       "            + ' to learn more about interactive tables.';\n",
       "          element.innerHTML = '';\n",
       "          dataTable['output_type'] = 'display_data';\n",
       "          await google.colab.output.renderOutput(dataTable, element);\n",
       "          const docLink = document.createElement('div');\n",
       "          docLink.innerHTML = docLinkHtml;\n",
       "          element.appendChild(docLink);\n",
       "        }\n",
       "      </script>\n",
       "    </div>\n",
       "  </div>\n",
       "  "
      ],
      "text/plain": [
       "     tweet_id   sentiment       author  \\\n",
       "0  1956967341       empty   xoshayzers   \n",
       "1  1956967666     sadness    wannamama   \n",
       "2  1956967696     sadness    coolfunky   \n",
       "3  1956967789  enthusiasm  czareaquino   \n",
       "4  1956968416     neutral    xkilljoyx   \n",
       "\n",
       "                                             content  \n",
       "0  @tiffanylue i know  i was listenin to bad habi...  \n",
       "1  Layin n bed with a headache  ughhhh...waitin o...  \n",
       "2                Funeral ceremony...gloomy friday...  \n",
       "3               wants to hang out with friends SOON!  \n",
       "4  @dannycastillo We want to trade with someone w...  "
      ]
     },
     "execution_count": 9,
     "metadata": {},
     "output_type": "execute_result"
    }
   ],
   "source": [
    "df = pd.read_csv('./emotions.csv')\n",
    "df.head()"
   ]
  },
  {
   "cell_type": "markdown",
   "metadata": {
    "id": "way12JBKrJe5"
   },
   "source": [
    "<h3> 2.4 Verifying that there are no empty cells </h3> "
   ]
  },
  {
   "cell_type": "code",
   "execution_count": 10,
   "metadata": {
    "colab": {
     "base_uri": "https://localhost:8080/"
    },
    "id": "B5ugW5dXEvtr",
    "outputId": "c4dcac7b-d672-44c4-a8fc-55f4fb635bca"
   },
   "outputs": [
    {
     "name": "stdout",
     "output_type": "stream",
     "text": [
      "<class 'pandas.core.frame.DataFrame'>\n",
      "RangeIndex: 40000 entries, 0 to 39999\n",
      "Data columns (total 4 columns):\n",
      " #   Column     Non-Null Count  Dtype \n",
      "---  ------     --------------  ----- \n",
      " 0   tweet_id   40000 non-null  int64 \n",
      " 1   sentiment  40000 non-null  object\n",
      " 2   author     40000 non-null  object\n",
      " 3   content    40000 non-null  object\n",
      "dtypes: int64(1), object(3)\n",
      "memory usage: 1.2+ MB\n"
     ]
    }
   ],
   "source": [
    "df.info()"
   ]
  },
  {
   "cell_type": "code",
   "execution_count": 11,
   "metadata": {
    "colab": {
     "base_uri": "https://localhost:8080/"
    },
    "id": "OfXkkE3ZF9xG",
    "outputId": "10d097ad-92a3-48da-bf1a-3d1cdf2638ac"
   },
   "outputs": [
    {
     "name": "stdout",
     "output_type": "stream",
     "text": [
      "Num of instances: 40000\n"
     ]
    }
   ],
   "source": [
    "#review the sentiment instances\n",
    "print('Num of instances: {}'.format(len(df)))"
   ]
  },
  {
   "cell_type": "code",
   "execution_count": 12,
   "metadata": {
    "colab": {
     "base_uri": "https://localhost:8080/",
     "height": 175
    },
    "id": "ZVATlCWumr5h",
    "outputId": "4ac609e6-1667-4cb5-9ada-011702b37692"
   },
   "outputs": [
    {
     "data": {
      "text/html": [
       "\n",
       "  <div id=\"df-dcace6de-10ce-4e40-a5cf-46a867f43577\">\n",
       "    <div class=\"colab-df-container\">\n",
       "      <div>\n",
       "<style scoped>\n",
       "    .dataframe tbody tr th:only-of-type {\n",
       "        vertical-align: middle;\n",
       "    }\n",
       "\n",
       "    .dataframe tbody tr th {\n",
       "        vertical-align: top;\n",
       "    }\n",
       "\n",
       "    .dataframe thead th {\n",
       "        text-align: right;\n",
       "    }\n",
       "</style>\n",
       "<table border=\"1\" class=\"dataframe\">\n",
       "  <thead>\n",
       "    <tr style=\"text-align: right;\">\n",
       "      <th></th>\n",
       "      <th>sentiment</th>\n",
       "    </tr>\n",
       "  </thead>\n",
       "  <tbody>\n",
       "    <tr>\n",
       "      <th>count</th>\n",
       "      <td>40000</td>\n",
       "    </tr>\n",
       "    <tr>\n",
       "      <th>unique</th>\n",
       "      <td>13</td>\n",
       "    </tr>\n",
       "    <tr>\n",
       "      <th>top</th>\n",
       "      <td>neutral</td>\n",
       "    </tr>\n",
       "    <tr>\n",
       "      <th>freq</th>\n",
       "      <td>8638</td>\n",
       "    </tr>\n",
       "  </tbody>\n",
       "</table>\n",
       "</div>\n",
       "      <button class=\"colab-df-convert\" onclick=\"convertToInteractive('df-dcace6de-10ce-4e40-a5cf-46a867f43577')\"\n",
       "              title=\"Convert this dataframe to an interactive table.\"\n",
       "              style=\"display:none;\">\n",
       "        \n",
       "  <svg xmlns=\"http://www.w3.org/2000/svg\" height=\"24px\"viewBox=\"0 0 24 24\"\n",
       "       width=\"24px\">\n",
       "    <path d=\"M0 0h24v24H0V0z\" fill=\"none\"/>\n",
       "    <path d=\"M18.56 5.44l.94 2.06.94-2.06 2.06-.94-2.06-.94-.94-2.06-.94 2.06-2.06.94zm-11 1L8.5 8.5l.94-2.06 2.06-.94-2.06-.94L8.5 2.5l-.94 2.06-2.06.94zm10 10l.94 2.06.94-2.06 2.06-.94-2.06-.94-.94-2.06-.94 2.06-2.06.94z\"/><path d=\"M17.41 7.96l-1.37-1.37c-.4-.4-.92-.59-1.43-.59-.52 0-1.04.2-1.43.59L10.3 9.45l-7.72 7.72c-.78.78-.78 2.05 0 2.83L4 21.41c.39.39.9.59 1.41.59.51 0 1.02-.2 1.41-.59l7.78-7.78 2.81-2.81c.8-.78.8-2.07 0-2.86zM5.41 20L4 18.59l7.72-7.72 1.47 1.35L5.41 20z\"/>\n",
       "  </svg>\n",
       "      </button>\n",
       "      \n",
       "  <style>\n",
       "    .colab-df-container {\n",
       "      display:flex;\n",
       "      flex-wrap:wrap;\n",
       "      gap: 12px;\n",
       "    }\n",
       "\n",
       "    .colab-df-convert {\n",
       "      background-color: #E8F0FE;\n",
       "      border: none;\n",
       "      border-radius: 50%;\n",
       "      cursor: pointer;\n",
       "      display: none;\n",
       "      fill: #1967D2;\n",
       "      height: 32px;\n",
       "      padding: 0 0 0 0;\n",
       "      width: 32px;\n",
       "    }\n",
       "\n",
       "    .colab-df-convert:hover {\n",
       "      background-color: #E2EBFA;\n",
       "      box-shadow: 0px 1px 2px rgba(60, 64, 67, 0.3), 0px 1px 3px 1px rgba(60, 64, 67, 0.15);\n",
       "      fill: #174EA6;\n",
       "    }\n",
       "\n",
       "    [theme=dark] .colab-df-convert {\n",
       "      background-color: #3B4455;\n",
       "      fill: #D2E3FC;\n",
       "    }\n",
       "\n",
       "    [theme=dark] .colab-df-convert:hover {\n",
       "      background-color: #434B5C;\n",
       "      box-shadow: 0px 1px 3px 1px rgba(0, 0, 0, 0.15);\n",
       "      filter: drop-shadow(0px 1px 2px rgba(0, 0, 0, 0.3));\n",
       "      fill: #FFFFFF;\n",
       "    }\n",
       "  </style>\n",
       "\n",
       "      <script>\n",
       "        const buttonEl =\n",
       "          document.querySelector('#df-dcace6de-10ce-4e40-a5cf-46a867f43577 button.colab-df-convert');\n",
       "        buttonEl.style.display =\n",
       "          google.colab.kernel.accessAllowed ? 'block' : 'none';\n",
       "\n",
       "        async function convertToInteractive(key) {\n",
       "          const element = document.querySelector('#df-dcace6de-10ce-4e40-a5cf-46a867f43577');\n",
       "          const dataTable =\n",
       "            await google.colab.kernel.invokeFunction('convertToInteractive',\n",
       "                                                     [key], {});\n",
       "          if (!dataTable) return;\n",
       "\n",
       "          const docLinkHtml = 'Like what you see? Visit the ' +\n",
       "            '<a target=\"_blank\" href=https://colab.research.google.com/notebooks/data_table.ipynb>data table notebook</a>'\n",
       "            + ' to learn more about interactive tables.';\n",
       "          element.innerHTML = '';\n",
       "          dataTable['output_type'] = 'display_data';\n",
       "          await google.colab.output.renderOutput(dataTable, element);\n",
       "          const docLink = document.createElement('div');\n",
       "          docLink.innerHTML = docLinkHtml;\n",
       "          element.appendChild(docLink);\n",
       "        }\n",
       "      </script>\n",
       "    </div>\n",
       "  </div>\n",
       "  "
      ],
      "text/plain": [
       "       sentiment\n",
       "count      40000\n",
       "unique        13\n",
       "top      neutral\n",
       "freq        8638"
      ]
     },
     "execution_count": 12,
     "metadata": {},
     "output_type": "execute_result"
    }
   ],
   "source": [
    "df[['sentiment']].describe()"
   ]
  },
  {
   "cell_type": "markdown",
   "metadata": {
    "id": "KMzTaRbseGKz"
   },
   "source": [
    "<h3> 2.5 Data visualisation </h3> "
   ]
  },
  {
   "cell_type": "markdown",
   "metadata": {
    "id": "AZpFn0d_S90c"
   },
   "source": [
    "Let's visualise the emotions distribution in the dataset."
   ]
  },
  {
   "cell_type": "code",
   "execution_count": 13,
   "metadata": {
    "colab": {
     "base_uri": "https://localhost:8080/",
     "height": 389
    },
    "id": "8zIhexsQjDCO",
    "outputId": "65e04112-8a82-4896-ca44-3325d4f3c82b"
   },
   "outputs": [
    {
     "data": {
      "text/plain": [
       "Text(0.5, 0, 'Emotion')"
      ]
     },
     "execution_count": 13,
     "metadata": {},
     "output_type": "execute_result"
    },
    {
     "data": {
      "image/png": "[encoded data removed]",
      "text/plain": [
       "<Figure size 432x288 with 1 Axes>"
      ]
     },
     "metadata": {},
     "output_type": "display_data"
    }
   ],
   "source": [
    "df.sentiment.value_counts().plot.bar(color='green', fontsize=14)\n",
    "plt.title(\"Emotions distribution\")\n",
    "plt.ylabel(\"Counts\")\n",
    "plt.xlabel(\"Emotion\")"
   ]
  },
  {
   "cell_type": "code",
   "execution_count": 14,
   "metadata": {
    "colab": {
     "base_uri": "https://localhost:8080/"
    },
    "id": "YK2la0cESia6",
    "outputId": "10d13c39-f99d-43be-87ac-7dcbe3cce98e"
   },
   "outputs": [
    {
     "data": {
      "text/plain": [
       "sentiment \n",
       "neutral       8638\n",
       "worry         8459\n",
       "happiness     5209\n",
       "sadness       5165\n",
       "love          3842\n",
       "surprise      2187\n",
       "fun           1776\n",
       "relief        1526\n",
       "hate          1323\n",
       "empty          827\n",
       "enthusiasm     759\n",
       "boredom        179\n",
       "anger          110\n",
       "dtype: int64"
      ]
     },
     "execution_count": 14,
     "metadata": {},
     "output_type": "execute_result"
    }
   ],
   "source": [
    "df[['sentiment']].value_counts()"
   ]
  },
  {
   "cell_type": "markdown",
   "metadata": {
    "id": "VkUqYUncjsaj"
   },
   "source": [
    "<h2> 3. Pre-processing and data selection </h2>\n",
    "    \n",
    "\n",
    "* Here we will first look for emoticons or/and emojis in the content. Then we will replace any emoticons or emojis with text by using the emot library.\n",
    "\n",
    "* The similarity amongst emotions will be computed by using Google-news and Twitter pretrained vector models. \n",
    "* We will group the labels that are closer in similarity except if they have opposite meaning.\n",
    "* Finally, we will drop label or labels that are highly similar with all other emotion labels.\n"
   ]
  },
  {
   "cell_type": "code",
   "execution_count": 15,
   "metadata": {
    "colab": {
     "base_uri": "https://localhost:8080/"
    },
    "id": "TDWDTw5FZSEw",
    "outputId": "94ee35c8-be61-4cd4-b80b-740ab4625591"
   },
   "outputs": [
    {
     "name": "stdout",
     "output_type": "stream",
     "text": [
      "Anger: 110 tweets\n",
      "Boredom: 179 tweets\n"
     ]
    }
   ],
   "source": [
    "# Extract the number of tweets of emotions with less instances in the dataset\n",
    "anger = df[df['sentiment']== 'anger']\n",
    "print('Anger: {} tweets'.format(len(anger)))\n",
    "boredom = df[df['sentiment']== 'boredom']\n",
    "print('Boredom: {} tweets'.format(len(boredom)))\n"
   ]
  },
  {
   "cell_type": "markdown",
   "metadata": {
    "id": "-oNtZEQv1QYe"
   },
   "source": [
    "<h3> 3.1 Emoticon dictionary </h3>"
   ]
  },
  {
   "cell_type": "code",
   "execution_count": 16,
   "metadata": {
    "id": "lFp0Lpu13_r6"
   },
   "outputs": [],
   "source": [
    "emot_dict = emot.emo_unicode.EMOTICONS_EMO\n",
    "# From Wikipedia list of emoticons correct to angry, \n",
    "# https://en.wikipedia.org/wiki/List_of_emoticons\n",
    "emot_dict = {k: ('angry' if k in ['>-(', '>:(', '>:['] else v) for k, v in emot_dict.items()}\n"
   ]
  },
  {
   "cell_type": "code",
   "execution_count": 17,
   "metadata": {
    "id": "lNVbRBdtu5YS"
   },
   "outputs": [],
   "source": [
    "# From wikipedia remove andry \n",
    "emot_dict = {k: ('Frown, sad or pouting' if v == 'Frown, sad, andry or pouting' \n",
    "                 else v) for k, v in emot_dict.items()}"
   ]
  },
  {
   "cell_type": "markdown",
   "metadata": {
    "id": "zYnzz3Hzu_yj"
   },
   "source": [
    "<h3> 3.2 Find emoticons in content </h3>"
   ]
  },
  {
   "cell_type": "code",
   "execution_count": 18,
   "metadata": {
    "id": "OBHYMy8Ju_CV"
   },
   "outputs": [],
   "source": [
    "# Find the emoticons used in the tweets and their categorical label\n",
    "emo = defaultdict(list)\n",
    "for k, v in emot_dict.items():\n",
    "    for i, l in enumerate(list(df.content)):\n",
    "        a = df.sentiment.iloc[i]\n",
    "        if k in l and a not in emo[k]:\n",
    "            emo[k].append(a)"
   ]
  },
  {
   "cell_type": "code",
   "execution_count": 19,
   "metadata": {
    "colab": {
     "base_uri": "https://localhost:8080/"
    },
    "id": "XTiQVDURvU5h",
    "outputId": "f3ef7391-1f93-4697-b000-18fbbfdb36c2"
   },
   "outputs": [
    {
     "name": "stdout",
     "output_type": "stream",
     "text": [
      "A total 53 emoticons were used in the dataset.\n"
     ]
    }
   ],
   "source": [
    "print('A total {} emoticons were used in the dataset.'.format(len(emo)))"
   ]
  },
  {
   "cell_type": "code",
   "execution_count": 20,
   "metadata": {
    "colab": {
     "base_uri": "https://localhost:8080/",
     "height": 300
    },
    "id": "y1q4Tc2tvYfd",
    "outputId": "2366def9-f91d-4242-d3f0-32ae380d4116"
   },
   "outputs": [
    {
     "data": {
      "text/html": [
       "\n",
       "  <div id=\"df-43776094-6ccd-4caf-aaf6-987aed564d67\">\n",
       "    <div class=\"colab-df-container\">\n",
       "      <div>\n",
       "<style scoped>\n",
       "    .dataframe tbody tr th:only-of-type {\n",
       "        vertical-align: middle;\n",
       "    }\n",
       "\n",
       "    .dataframe tbody tr th {\n",
       "        vertical-align: top;\n",
       "    }\n",
       "\n",
       "    .dataframe thead th {\n",
       "        text-align: right;\n",
       "    }\n",
       "</style>\n",
       "<table border=\"1\" class=\"dataframe\">\n",
       "  <thead>\n",
       "    <tr style=\"text-align: right;\">\n",
       "      <th></th>\n",
       "      <th>:]</th>\n",
       "      <th>:3</th>\n",
       "      <th>8-)</th>\n",
       "      <th>:o)</th>\n",
       "      <th>:^)</th>\n",
       "      <th>=]</th>\n",
       "      <th>8D</th>\n",
       "      <th>XD</th>\n",
       "      <th>=D</th>\n",
       "      <th>=3</th>\n",
       "      <th>...</th>\n",
       "      <th>:&amp;</th>\n",
       "      <th>0:3</th>\n",
       "      <th>%)</th>\n",
       "      <th>;_;</th>\n",
       "      <th>;;</th>\n",
       "      <th>T.T</th>\n",
       "      <th>QQ</th>\n",
       "      <th>o_0</th>\n",
       "      <th>o.O</th>\n",
       "      <th>oO</th>\n",
       "    </tr>\n",
       "  </thead>\n",
       "  <tbody>\n",
       "    <tr>\n",
       "      <th>0</th>\n",
       "      <td>happiness</td>\n",
       "      <td>neutral</td>\n",
       "      <td>worry</td>\n",
       "      <td>neutral</td>\n",
       "      <td>sadness</td>\n",
       "      <td>sadness</td>\n",
       "      <td>surprise</td>\n",
       "      <td>neutral</td>\n",
       "      <td>sadness</td>\n",
       "      <td>neutral</td>\n",
       "      <td>...</td>\n",
       "      <td>worry</td>\n",
       "      <td>worry</td>\n",
       "      <td>neutral</td>\n",
       "      <td>sadness</td>\n",
       "      <td>surprise</td>\n",
       "      <td>sadness</td>\n",
       "      <td>neutral</td>\n",
       "      <td>neutral</td>\n",
       "      <td>worry</td>\n",
       "      <td>fun</td>\n",
       "    </tr>\n",
       "    <tr>\n",
       "      <th>1</th>\n",
       "      <td>worry</td>\n",
       "      <td>worry</td>\n",
       "      <td>happiness</td>\n",
       "      <td>love</td>\n",
       "      <td>neutral</td>\n",
       "      <td>happiness</td>\n",
       "      <td>worry</td>\n",
       "      <td>worry</td>\n",
       "      <td>enthusiasm</td>\n",
       "      <td>NaN</td>\n",
       "      <td>...</td>\n",
       "      <td>surprise</td>\n",
       "      <td>surprise</td>\n",
       "      <td>NaN</td>\n",
       "      <td>NaN</td>\n",
       "      <td>sadness</td>\n",
       "      <td>relief</td>\n",
       "      <td>NaN</td>\n",
       "      <td>worry</td>\n",
       "      <td>NaN</td>\n",
       "      <td>surprise</td>\n",
       "    </tr>\n",
       "    <tr>\n",
       "      <th>2</th>\n",
       "      <td>sadness</td>\n",
       "      <td>sadness</td>\n",
       "      <td>NaN</td>\n",
       "      <td>NaN</td>\n",
       "      <td>NaN</td>\n",
       "      <td>fun</td>\n",
       "      <td>neutral</td>\n",
       "      <td>love</td>\n",
       "      <td>happiness</td>\n",
       "      <td>NaN</td>\n",
       "      <td>...</td>\n",
       "      <td>love</td>\n",
       "      <td>sadness</td>\n",
       "      <td>NaN</td>\n",
       "      <td>NaN</td>\n",
       "      <td>happiness</td>\n",
       "      <td>neutral</td>\n",
       "      <td>NaN</td>\n",
       "      <td>NaN</td>\n",
       "      <td>NaN</td>\n",
       "      <td>worry</td>\n",
       "    </tr>\n",
       "    <tr>\n",
       "      <th>3</th>\n",
       "      <td>love</td>\n",
       "      <td>empty</td>\n",
       "      <td>NaN</td>\n",
       "      <td>NaN</td>\n",
       "      <td>NaN</td>\n",
       "      <td>worry</td>\n",
       "      <td>relief</td>\n",
       "      <td>enthusiasm</td>\n",
       "      <td>neutral</td>\n",
       "      <td>NaN</td>\n",
       "      <td>...</td>\n",
       "      <td>happiness</td>\n",
       "      <td>enthusiasm</td>\n",
       "      <td>NaN</td>\n",
       "      <td>NaN</td>\n",
       "      <td>worry</td>\n",
       "      <td>NaN</td>\n",
       "      <td>NaN</td>\n",
       "      <td>NaN</td>\n",
       "      <td>NaN</td>\n",
       "      <td>neutral</td>\n",
       "    </tr>\n",
       "    <tr>\n",
       "      <th>4</th>\n",
       "      <td>neutral</td>\n",
       "      <td>happiness</td>\n",
       "      <td>NaN</td>\n",
       "      <td>NaN</td>\n",
       "      <td>NaN</td>\n",
       "      <td>love</td>\n",
       "      <td>happiness</td>\n",
       "      <td>hate</td>\n",
       "      <td>love</td>\n",
       "      <td>NaN</td>\n",
       "      <td>...</td>\n",
       "      <td>sadness</td>\n",
       "      <td>neutral</td>\n",
       "      <td>NaN</td>\n",
       "      <td>NaN</td>\n",
       "      <td>hate</td>\n",
       "      <td>NaN</td>\n",
       "      <td>NaN</td>\n",
       "      <td>NaN</td>\n",
       "      <td>NaN</td>\n",
       "      <td>sadness</td>\n",
       "    </tr>\n",
       "  </tbody>\n",
       "</table>\n",
       "<p>5 rows × 53 columns</p>\n",
       "</div>\n",
       "      <button class=\"colab-df-convert\" onclick=\"convertToInteractive('df-43776094-6ccd-4caf-aaf6-987aed564d67')\"\n",
       "              title=\"Convert this dataframe to an interactive table.\"\n",
       "              style=\"display:none;\">\n",
       "        \n",
       "  <svg xmlns=\"http://www.w3.org/2000/svg\" height=\"24px\"viewBox=\"0 0 24 24\"\n",
       "       width=\"24px\">\n",
       "    <path d=\"M0 0h24v24H0V0z\" fill=\"none\"/>\n",
       "    <path d=\"M18.56 5.44l.94 2.06.94-2.06 2.06-.94-2.06-.94-.94-2.06-.94 2.06-2.06.94zm-11 1L8.5 8.5l.94-2.06 2.06-.94-2.06-.94L8.5 2.5l-.94 2.06-2.06.94zm10 10l.94 2.06.94-2.06 2.06-.94-2.06-.94-.94-2.06-.94 2.06-2.06.94z\"/><path d=\"M17.41 7.96l-1.37-1.37c-.4-.4-.92-.59-1.43-.59-.52 0-1.04.2-1.43.59L10.3 9.45l-7.72 7.72c-.78.78-.78 2.05 0 2.83L4 21.41c.39.39.9.59 1.41.59.51 0 1.02-.2 1.41-.59l7.78-7.78 2.81-2.81c.8-.78.8-2.07 0-2.86zM5.41 20L4 18.59l7.72-7.72 1.47 1.35L5.41 20z\"/>\n",
       "  </svg>\n",
       "      </button>\n",
       "      \n",
       "  <style>\n",
       "    .colab-df-container {\n",
       "      display:flex;\n",
       "      flex-wrap:wrap;\n",
       "      gap: 12px;\n",
       "    }\n",
       "\n",
       "    .colab-df-convert {\n",
       "      background-color: #E8F0FE;\n",
       "      border: none;\n",
       "      border-radius: 50%;\n",
       "      cursor: pointer;\n",
       "      display: none;\n",
       "      fill: #1967D2;\n",
       "      height: 32px;\n",
       "      padding: 0 0 0 0;\n",
       "      width: 32px;\n",
       "    }\n",
       "\n",
       "    .colab-df-convert:hover {\n",
       "      background-color: #E2EBFA;\n",
       "      box-shadow: 0px 1px 2px rgba(60, 64, 67, 0.3), 0px 1px 3px 1px rgba(60, 64, 67, 0.15);\n",
       "      fill: #174EA6;\n",
       "    }\n",
       "\n",
       "    [theme=dark] .colab-df-convert {\n",
       "      background-color: #3B4455;\n",
       "      fill: #D2E3FC;\n",
       "    }\n",
       "\n",
       "    [theme=dark] .colab-df-convert:hover {\n",
       "      background-color: #434B5C;\n",
       "      box-shadow: 0px 1px 3px 1px rgba(0, 0, 0, 0.15);\n",
       "      filter: drop-shadow(0px 1px 2px rgba(0, 0, 0, 0.3));\n",
       "      fill: #FFFFFF;\n",
       "    }\n",
       "  </style>\n",
       "\n",
       "      <script>\n",
       "        const buttonEl =\n",
       "          document.querySelector('#df-43776094-6ccd-4caf-aaf6-987aed564d67 button.colab-df-convert');\n",
       "        buttonEl.style.display =\n",
       "          google.colab.kernel.accessAllowed ? 'block' : 'none';\n",
       "\n",
       "        async function convertToInteractive(key) {\n",
       "          const element = document.querySelector('#df-43776094-6ccd-4caf-aaf6-987aed564d67');\n",
       "          const dataTable =\n",
       "            await google.colab.kernel.invokeFunction('convertToInteractive',\n",
       "                                                     [key], {});\n",
       "          if (!dataTable) return;\n",
       "\n",
       "          const docLinkHtml = 'Like what you see? Visit the ' +\n",
       "            '<a target=\"_blank\" href=https://colab.research.google.com/notebooks/data_table.ipynb>data table notebook</a>'\n",
       "            + ' to learn more about interactive tables.';\n",
       "          element.innerHTML = '';\n",
       "          dataTable['output_type'] = 'display_data';\n",
       "          await google.colab.output.renderOutput(dataTable, element);\n",
       "          const docLink = document.createElement('div');\n",
       "          docLink.innerHTML = docLinkHtml;\n",
       "          element.appendChild(docLink);\n",
       "        }\n",
       "      </script>\n",
       "    </div>\n",
       "  </div>\n",
       "  "
      ],
      "text/plain": [
       "          :]         :3        8-)      :o)      :^)         =]         8D  \\\n",
       "0  happiness    neutral      worry  neutral  sadness    sadness   surprise   \n",
       "1      worry      worry  happiness     love  neutral  happiness      worry   \n",
       "2    sadness    sadness        NaN      NaN      NaN        fun    neutral   \n",
       "3       love      empty        NaN      NaN      NaN      worry     relief   \n",
       "4    neutral  happiness        NaN      NaN      NaN       love  happiness   \n",
       "\n",
       "           XD          =D       =3  ...         :&         0:3       %)  \\\n",
       "0     neutral     sadness  neutral  ...      worry       worry  neutral   \n",
       "1       worry  enthusiasm      NaN  ...   surprise    surprise      NaN   \n",
       "2        love   happiness      NaN  ...       love     sadness      NaN   \n",
       "3  enthusiasm     neutral      NaN  ...  happiness  enthusiasm      NaN   \n",
       "4        hate        love      NaN  ...    sadness     neutral      NaN   \n",
       "\n",
       "       ;_;         ;;      T.T       QQ      o_0    o.O        oO  \n",
       "0  sadness   surprise  sadness  neutral  neutral  worry       fun  \n",
       "1      NaN    sadness   relief      NaN    worry    NaN  surprise  \n",
       "2      NaN  happiness  neutral      NaN      NaN    NaN     worry  \n",
       "3      NaN      worry      NaN      NaN      NaN    NaN   neutral  \n",
       "4      NaN       hate      NaN      NaN      NaN    NaN   sadness  \n",
       "\n",
       "[5 rows x 53 columns]"
      ]
     },
     "execution_count": 20,
     "metadata": {},
     "output_type": "execute_result"
    }
   ],
   "source": [
    "# Show the emoticon and the content class label\n",
    "data = pd.DataFrame(dict([(k,pd.Series(v)) for k,v in emo.items()]))\n",
    "data.head()"
   ]
  },
  {
   "cell_type": "code",
   "execution_count": 21,
   "metadata": {
    "colab": {
     "base_uri": "https://localhost:8080/"
    },
    "id": "co0DM7qgvYrt",
    "outputId": "78282fee-6cb9-452d-cb06-d95df9b03c1f"
   },
   "outputs": [
    {
     "name": "stdout",
     "output_type": "stream",
     "text": [
      "<class 'pandas.core.frame.DataFrame'>\n",
      "RangeIndex: 13 entries, 0 to 12\n",
      "Data columns (total 53 columns):\n",
      " #   Column  Non-Null Count  Dtype \n",
      "---  ------  --------------  ----- \n",
      " 0   :]      10 non-null     object\n",
      " 1   :3      12 non-null     object\n",
      " 2   8-)     2 non-null      object\n",
      " 3   :o)     2 non-null      object\n",
      " 4   :^)     2 non-null      object\n",
      " 5   =]      6 non-null      object\n",
      " 6   8D      5 non-null      object\n",
      " 7   XD      10 non-null     object\n",
      " 8   =D      9 non-null      object\n",
      " 9   =3      1 non-null      object\n",
      " 10  :c      1 non-null      object\n",
      " 11  :[      4 non-null      object\n",
      " 12  :{      1 non-null      object\n",
      " 13  :@      6 non-null      object\n",
      " 14  :'(     6 non-null      object\n",
      " 15  :')     3 non-null      object\n",
      " 16  D:      9 non-null      object\n",
      " 17  D8      1 non-null      object\n",
      " 18  D;      3 non-null      object\n",
      " 19  D=      2 non-null      object\n",
      " 20  DX      3 non-null      object\n",
      " 21  :O      8 non-null      object\n",
      " 22  :o      7 non-null      object\n",
      " 23  :-0     1 non-null      object\n",
      " 24  :-*     1 non-null      object\n",
      " 25  :*      5 non-null      object\n",
      " 26  :X      3 non-null      object\n",
      " 27  ;)      12 non-null     object\n",
      " 28  *)      1 non-null      object\n",
      " 29  ;]      3 non-null      object\n",
      " 30  ;D      8 non-null      object\n",
      " 31  XP      8 non-null      object\n",
      " 32  :b      2 non-null      object\n",
      " 33  d:      7 non-null      object\n",
      " 34  =p      4 non-null      object\n",
      " 35  :/      13 non-null     object\n",
      " 36  =/      7 non-null      object\n",
      " 37  :L      7 non-null      object\n",
      " 38  :S      11 non-null     object\n",
      " 39  :|      9 non-null      object\n",
      " 40  :$      1 non-null      object\n",
      " 41  :x      1 non-null      object\n",
      " 42  :#      1 non-null      object\n",
      " 43  :&      6 non-null      object\n",
      " 44  0:3     7 non-null      object\n",
      " 45  %)      1 non-null      object\n",
      " 46  ;_;     1 non-null      object\n",
      " 47  ;;      7 non-null      object\n",
      " 48  T.T     3 non-null      object\n",
      " 49  QQ      1 non-null      object\n",
      " 50  o_0     2 non-null      object\n",
      " 51  o.O     1 non-null      object\n",
      " 52  oO      7 non-null      object\n",
      "dtypes: object(53)\n",
      "memory usage: 5.5+ KB\n"
     ]
    }
   ],
   "source": [
    "# Show information of the emoticons and number of different content labels that they appear\n",
    "data.info()"
   ]
  },
  {
   "cell_type": "code",
   "execution_count": 22,
   "metadata": {
    "colab": {
     "base_uri": "https://localhost:8080/"
    },
    "id": "RIyVGrt-vb8Q",
    "outputId": "16694e60-29f1-45d2-e4b7-1b66435bc2cb"
   },
   "outputs": [
    {
     "name": "stdout",
     "output_type": "stream",
     "text": [
      "Emoticon :] - Happy face or smiley appears in content with 10 different labels.\n",
      "Labels: ['happiness', 'worry', 'sadness', 'love', 'neutral', 'empty', 'enthusiasm', 'surprise', 'boredom', 'fun']\n",
      "Emoticon :3 - Happy face smiley appears in content with 12 different labels.\n",
      "Labels: ['neutral', 'worry', 'sadness', 'empty', 'happiness', 'love', 'surprise', 'hate', 'boredom', 'relief', 'enthusiasm', 'fun']\n",
      "Emoticon =] - Happy face smiley appears in content with 6 different labels.\n",
      "Labels: ['sadness', 'happiness', 'fun', 'worry', 'love', 'neutral']\n",
      "Emoticon 8D - Laughing, big grin or laugh with glasses appears in content with 5 different labels.\n",
      "Labels: ['surprise', 'worry', 'neutral', 'relief', 'happiness']\n",
      "Emoticon XD - Laughing, big grin or laugh with glasses appears in content with 10 different labels.\n",
      "Labels: ['neutral', 'worry', 'love', 'enthusiasm', 'hate', 'happiness', 'surprise', 'relief', 'empty', 'fun']\n",
      "Emoticon =D - Laughing, big grin or laugh with glasses appears in content with 9 different labels.\n",
      "Labels: ['sadness', 'enthusiasm', 'happiness', 'neutral', 'love', 'surprise', 'fun', 'worry', 'relief']\n",
      "Emoticon :@ - Frown, sad or pouting appears in content with 6 different labels.\n",
      "Labels: ['neutral', 'worry', 'love', 'sadness', 'hate', 'empty']\n",
      "Emoticon :'( - Crying appears in content with 6 different labels.\n",
      "Labels: ['sadness', 'worry', 'hate', 'surprise', 'enthusiasm', 'neutral']\n",
      "Emoticon D: - Sadness appears in content with 9 different labels.\n",
      "Labels: ['neutral', 'worry', 'fun', 'love', 'boredom', 'sadness', 'happiness', 'hate', 'surprise']\n",
      "Emoticon :O - Surprise appears in content with 8 different labels.\n",
      "Labels: ['sadness', 'love', 'worry', 'surprise', 'neutral', 'happiness', 'hate', 'fun']\n",
      "Emoticon :o - Surprise appears in content with 7 different labels.\n",
      "Labels: ['neutral', 'happiness', 'sadness', 'worry', 'surprise', 'love', 'enthusiasm']\n",
      "Emoticon :* - Kiss appears in content with 5 different labels.\n",
      "Labels: ['sadness', 'happiness', 'love', 'neutral', 'surprise']\n",
      "Emoticon ;) - Wink or smirk appears in content with 12 different labels.\n",
      "Labels: ['fun', 'worry', 'relief', 'love', 'surprise', 'happiness', 'sadness', 'neutral', 'boredom', 'enthusiasm', 'hate', 'empty']\n",
      "Emoticon ;D - Wink or smirk appears in content with 8 different labels.\n",
      "Labels: ['sadness', 'worry', 'neutral', 'happiness', 'surprise', 'fun', 'relief', 'love']\n",
      "Emoticon XP - Tongue sticking out, cheeky, playful or blowing a raspberry appears in content with 8 different labels.\n",
      "Labels: ['worry', 'fun', 'anger', 'sadness', 'neutral', 'empty', 'relief', 'happiness']\n",
      "Emoticon d: - Tongue sticking out, cheeky, playful or blowing a raspberry appears in content with 7 different labels.\n",
      "Labels: ['sadness', 'worry', 'relief', 'neutral', 'empty', 'love', 'happiness']\n",
      "Emoticon :/ - Skeptical, annoyed, undecided, uneasy or hesitant appears in content with 13 different labels.\n",
      "Labels: ['worry', 'neutral', 'sadness', 'hate', 'love', 'empty', 'surprise', 'relief', 'happiness', 'enthusiasm', 'fun', 'anger', 'boredom']\n",
      "Emoticon =/ - Skeptical, annoyed, undecided, uneasy or hesitant appears in content with 7 different labels.\n",
      "Labels: ['worry', 'hate', 'surprise', 'sadness', 'neutral', 'fun', 'happiness']\n",
      "Emoticon :L - Skeptical, annoyed, undecided, uneasy or hesitant appears in content with 7 different labels.\n",
      "Labels: ['worry', 'sadness', 'love', 'surprise', 'neutral', 'happiness', 'empty']\n",
      "Emoticon :S - Skeptical, annoyed, undecided, uneasy or hesitant appears in content with 11 different labels.\n",
      "Labels: ['sadness', 'happiness', 'love', 'worry', 'hate', 'neutral', 'relief', 'surprise', 'enthusiasm', 'fun', 'boredom']\n",
      "Emoticon :| - Straight face appears in content with 9 different labels.\n",
      "Labels: ['worry', 'love', 'sadness', 'happiness', 'neutral', 'surprise', 'enthusiasm', 'fun', 'relief']\n",
      "Emoticon :& - Sealed lips or wearing braces or tongue-tied appears in content with 6 different labels.\n",
      "Labels: ['worry', 'surprise', 'love', 'happiness', 'sadness', 'empty']\n",
      "Emoticon 0:3 - Angel, saint or innocent appears in content with 7 different labels.\n",
      "Labels: ['worry', 'surprise', 'sadness', 'enthusiasm', 'neutral', 'fun', 'relief']\n",
      "Emoticon ;; - Sad or Crying appears in content with 7 different labels.\n",
      "Labels: ['surprise', 'sadness', 'happiness', 'worry', 'hate', 'neutral', 'love']\n",
      "Emoticon oO - Surprised appears in content with 7 different labels.\n",
      "Labels: ['fun', 'surprise', 'worry', 'neutral', 'sadness', 'empty', 'happiness']\n"
     ]
    }
   ],
   "source": [
    "# Find emoticons with content labelled with 5 or more categories\n",
    "for k,v in emo.items():\n",
    "    if len(v) >= 5:\n",
    "        print('Emoticon {0} - {1} appears in content with {2} different labels.'.format(k, emot_dict[k], len(v)))\n",
    "        print('Labels: {}'.format(v))"
   ]
  },
  {
   "cell_type": "markdown",
   "metadata": {
    "id": "NAk13HgAvydF"
   },
   "source": [
    "<h3> 3.3 Find tweets with emojis </h3>"
   ]
  },
  {
   "cell_type": "code",
   "execution_count": 23,
   "metadata": {
    "colab": {
     "base_uri": "https://localhost:8080/"
    },
    "id": "PX-I1oYdvxlQ",
    "outputId": "94398696-1fbb-4c9a-856a-cbc4e6adfc98"
   },
   "outputs": [
    {
     "name": "stdout",
     "output_type": "stream",
     "text": [
      "No emojies in the dataset\n"
     ]
    }
   ],
   "source": [
    "emoji = list()\n",
    "for i, l in enumerate(list(df.content)):\n",
    "    if 'U+'in l:\n",
    "        emoji.append(i)\n",
    "if len(emoji)==0:\n",
    "    print('No emojies in the dataset')"
   ]
  },
  {
   "cell_type": "markdown",
   "metadata": {
    "id": "g9lzM_j21QYg"
   },
   "source": [
    "The dataset content did not have emojis."
   ]
  },
  {
   "cell_type": "markdown",
   "metadata": {
    "id": "OJEQjt_c1QYg"
   },
   "source": [
    "<h3> 3.4 Finding similarity in emotions using Gensim </h3>"
   ]
  },
  {
   "cell_type": "markdown",
   "metadata": {
    "id": "BnjfojU3wPld"
   },
   "source": [
    "From the section 3.2 we observed that some emoticons appear in content that has been labelled differently.  For instance the emoticon happy face or smiley appears in content labelled as 'happiness', 'worry', 'sadness', 'love', 'neutral', 'empty', 'enthusiasm', 'surprise', 'boredom' and 'fun'. These\n",
    "findings show that the emoticon and content can be ambiguous, expressing different feelings at\n",
    "once. It also could be mislabelled or the incorrect emoticon used since the emoticons were manually input rather than automatically generated from text. Therefore, this dataset represents a challenge for a classification task. To address this issue we will follow the strategy below:\n",
    "\n",
    "* Replace the following labels that are adjectives and/or verbs with nouns; empty with emptiness, and hate with hatred.\n",
    "* Load pretrained word2vec-google-news-300 and 'glove-twitter-100 vectors and compute similitariy amongst the categorical labels (emotion).\n",
    "* Join similar emotions \n",
    "* Remove instances of labels that are related with all labels."
   ]
  },
  {
   "cell_type": "code",
   "execution_count": 66,
   "metadata": {
    "id": "5-klDDmxwd8E"
   },
   "outputs": [],
   "source": [
    "df_emotions = df.copy()"
   ]
  },
  {
   "cell_type": "code",
   "execution_count": 67,
   "metadata": {
    "id": "nyYQhMdvwocC"
   },
   "outputs": [],
   "source": [
    "df_emotions.loc[(df_emotions.sentiment == 'empty'), 'sentiment'] = 'emptiness'\n",
    "df_emotions.loc[(df_emotions.sentiment == 'hate'), 'sentiment'] = 'hatred'"
   ]
  },
  {
   "cell_type": "code",
   "execution_count": 68,
   "metadata": {
    "id": "UpVBNf4KwtrL"
   },
   "outputs": [],
   "source": [
    "emotions_m = sorted(list(df_emotions.sentiment.unique()))"
   ]
  },
  {
   "cell_type": "code",
   "execution_count": 69,
   "metadata": {
    "id": "1LxNdNHQwRWX"
   },
   "outputs": [],
   "source": [
    "%%capture\n",
    "# Load google-new word2vec vectors\n",
    "gwv = api.load('word2vec-google-news-300')\n",
    "\n",
    "# Load glove-twitter vectors \n",
    "glove_vectors = api.load('glove-twitter-100') \n"
   ]
  },
  {
   "cell_type": "code",
   "execution_count": 70,
   "metadata": {
    "id": "zn2CVI_5wyaK"
   },
   "outputs": [],
   "source": [
    "# Compute similarity from pre-trained models\n",
    "sim_g ={}\n",
    "sim_t ={}\n",
    "\n",
    "for e in emotions_m:\n",
    "    for i in range(len(emotions_m)-1):\n",
    "        # google news\n",
    "        w1 = e\n",
    "        w2 = emotions_m[i+1] \n",
    "        if w1 == w2:\n",
    "            continue    \n",
    "        key = (w1, w2)\n",
    "        if key[::-1] in sim_g.keys(): \n",
    "              continue\n",
    "        else: \n",
    "            # google vectors\n",
    "            similarity_g = gwv.similarity(w1, w2)\n",
    "            # twitter vectors\n",
    "            similarity_t = glove_vectors.similarity(w1, w2)\n",
    "            sim_g[key] = similarity_g\n",
    "            sim_t[key] = similarity_t"
   ]
  },
  {
   "cell_type": "code",
   "execution_count": 71,
   "metadata": {
    "colab": {
     "base_uri": "https://localhost:8080/",
     "height": 677
    },
    "id": "qIT3nL3Owyel",
    "outputId": "053a7ff4-4ede-4392-d0d2-1aecf75b2d40"
   },
   "outputs": [
    {
     "data": {
      "text/html": [
       "\n",
       "  <div id=\"df-29ad11e9-0700-40bd-8da3-647ff80e1b74\">\n",
       "    <div class=\"colab-df-container\">\n",
       "      <div>\n",
       "<style scoped>\n",
       "    .dataframe tbody tr th:only-of-type {\n",
       "        vertical-align: middle;\n",
       "    }\n",
       "\n",
       "    .dataframe tbody tr th {\n",
       "        vertical-align: top;\n",
       "    }\n",
       "\n",
       "    .dataframe thead th {\n",
       "        text-align: right;\n",
       "    }\n",
       "</style>\n",
       "<table border=\"1\" class=\"dataframe\">\n",
       "  <thead>\n",
       "    <tr style=\"text-align: right;\">\n",
       "      <th></th>\n",
       "      <th>twitter</th>\n",
       "      <th>goog_news</th>\n",
       "    </tr>\n",
       "  </thead>\n",
       "  <tbody>\n",
       "    <tr>\n",
       "      <th>(anger, hatred)</th>\n",
       "      <td>0.768769</td>\n",
       "      <td>0.590178</td>\n",
       "    </tr>\n",
       "    <tr>\n",
       "      <th>(emptiness, sadness)</th>\n",
       "      <td>0.550510</td>\n",
       "      <td>0.589492</td>\n",
       "    </tr>\n",
       "    <tr>\n",
       "      <th>(fun, love)</th>\n",
       "      <td>0.710840</td>\n",
       "      <td>0.466562</td>\n",
       "    </tr>\n",
       "    <tr>\n",
       "      <th>(anger, sadness)</th>\n",
       "      <td>0.702778</td>\n",
       "      <td>0.451019</td>\n",
       "    </tr>\n",
       "    <tr>\n",
       "      <th>(happiness, love)</th>\n",
       "      <td>0.628533</td>\n",
       "      <td>0.450275</td>\n",
       "    </tr>\n",
       "    <tr>\n",
       "      <th>(boredom, emptiness)</th>\n",
       "      <td>0.361649</td>\n",
       "      <td>0.450142</td>\n",
       "    </tr>\n",
       "    <tr>\n",
       "      <th>(emptiness, happiness)</th>\n",
       "      <td>0.430916</td>\n",
       "      <td>0.439732</td>\n",
       "    </tr>\n",
       "    <tr>\n",
       "      <th>(happiness, sadness)</th>\n",
       "      <td>0.724261</td>\n",
       "      <td>0.426663</td>\n",
       "    </tr>\n",
       "    <tr>\n",
       "      <th>(anger, enthusiasm)</th>\n",
       "      <td>0.503019</td>\n",
       "      <td>0.408466</td>\n",
       "    </tr>\n",
       "    <tr>\n",
       "      <th>(hatred, sadness)</th>\n",
       "      <td>0.627424</td>\n",
       "      <td>0.395898</td>\n",
       "    </tr>\n",
       "    <tr>\n",
       "      <th>(love, sadness)</th>\n",
       "      <td>0.457202</td>\n",
       "      <td>0.367016</td>\n",
       "    </tr>\n",
       "    <tr>\n",
       "      <th>(enthusiasm, love)</th>\n",
       "      <td>0.194183</td>\n",
       "      <td>0.360807</td>\n",
       "    </tr>\n",
       "    <tr>\n",
       "      <th>(emptiness, hatred)</th>\n",
       "      <td>0.499148</td>\n",
       "      <td>0.359813</td>\n",
       "    </tr>\n",
       "    <tr>\n",
       "      <th>(hatred, love)</th>\n",
       "      <td>0.357668</td>\n",
       "      <td>0.348797</td>\n",
       "    </tr>\n",
       "    <tr>\n",
       "      <th>(boredom, happiness)</th>\n",
       "      <td>0.484366</td>\n",
       "      <td>0.347592</td>\n",
       "    </tr>\n",
       "    <tr>\n",
       "      <th>(enthusiasm, hatred)</th>\n",
       "      <td>0.519395</td>\n",
       "      <td>0.345579</td>\n",
       "    </tr>\n",
       "    <tr>\n",
       "      <th>(boredom, sadness)</th>\n",
       "      <td>0.522585</td>\n",
       "      <td>0.342371</td>\n",
       "    </tr>\n",
       "    <tr>\n",
       "      <th>(boredom, fun)</th>\n",
       "      <td>0.363095</td>\n",
       "      <td>0.340451</td>\n",
       "    </tr>\n",
       "    <tr>\n",
       "      <th>(enthusiasm, sadness)</th>\n",
       "      <td>0.407770</td>\n",
       "      <td>0.328432</td>\n",
       "    </tr>\n",
       "    <tr>\n",
       "      <th>(love, worry)</th>\n",
       "      <td>0.646493</td>\n",
       "      <td>0.314854</td>\n",
       "    </tr>\n",
       "  </tbody>\n",
       "</table>\n",
       "</div>\n",
       "      <button class=\"colab-df-convert\" onclick=\"convertToInteractive('df-29ad11e9-0700-40bd-8da3-647ff80e1b74')\"\n",
       "              title=\"Convert this dataframe to an interactive table.\"\n",
       "              style=\"display:none;\">\n",
       "        \n",
       "  <svg xmlns=\"http://www.w3.org/2000/svg\" height=\"24px\"viewBox=\"0 0 24 24\"\n",
       "       width=\"24px\">\n",
       "    <path d=\"M0 0h24v24H0V0z\" fill=\"none\"/>\n",
       "    <path d=\"M18.56 5.44l.94 2.06.94-2.06 2.06-.94-2.06-.94-.94-2.06-.94 2.06-2.06.94zm-11 1L8.5 8.5l.94-2.06 2.06-.94-2.06-.94L8.5 2.5l-.94 2.06-2.06.94zm10 10l.94 2.06.94-2.06 2.06-.94-2.06-.94-.94-2.06-.94 2.06-2.06.94z\"/><path d=\"M17.41 7.96l-1.37-1.37c-.4-.4-.92-.59-1.43-.59-.52 0-1.04.2-1.43.59L10.3 9.45l-7.72 7.72c-.78.78-.78 2.05 0 2.83L4 21.41c.39.39.9.59 1.41.59.51 0 1.02-.2 1.41-.59l7.78-7.78 2.81-2.81c.8-.78.8-2.07 0-2.86zM5.41 20L4 18.59l7.72-7.72 1.47 1.35L5.41 20z\"/>\n",
       "  </svg>\n",
       "      </button>\n",
       "      \n",
       "  <style>\n",
       "    .colab-df-container {\n",
       "      display:flex;\n",
       "      flex-wrap:wrap;\n",
       "      gap: 12px;\n",
       "    }\n",
       "\n",
       "    .colab-df-convert {\n",
       "      background-color: #E8F0FE;\n",
       "      border: none;\n",
       "      border-radius: 50%;\n",
       "      cursor: pointer;\n",
       "      display: none;\n",
       "      fill: #1967D2;\n",
       "      height: 32px;\n",
       "      padding: 0 0 0 0;\n",
       "      width: 32px;\n",
       "    }\n",
       "\n",
       "    .colab-df-convert:hover {\n",
       "      background-color: #E2EBFA;\n",
       "      box-shadow: 0px 1px 2px rgba(60, 64, 67, 0.3), 0px 1px 3px 1px rgba(60, 64, 67, 0.15);\n",
       "      fill: #174EA6;\n",
       "    }\n",
       "\n",
       "    [theme=dark] .colab-df-convert {\n",
       "      background-color: #3B4455;\n",
       "      fill: #D2E3FC;\n",
       "    }\n",
       "\n",
       "    [theme=dark] .colab-df-convert:hover {\n",
       "      background-color: #434B5C;\n",
       "      box-shadow: 0px 1px 3px 1px rgba(0, 0, 0, 0.15);\n",
       "      filter: drop-shadow(0px 1px 2px rgba(0, 0, 0, 0.3));\n",
       "      fill: #FFFFFF;\n",
       "    }\n",
       "  </style>\n",
       "\n",
       "      <script>\n",
       "        const buttonEl =\n",
       "          document.querySelector('#df-29ad11e9-0700-40bd-8da3-647ff80e1b74 button.colab-df-convert');\n",
       "        buttonEl.style.display =\n",
       "          google.colab.kernel.accessAllowed ? 'block' : 'none';\n",
       "\n",
       "        async function convertToInteractive(key) {\n",
       "          const element = document.querySelector('#df-29ad11e9-0700-40bd-8da3-647ff80e1b74');\n",
       "          const dataTable =\n",
       "            await google.colab.kernel.invokeFunction('convertToInteractive',\n",
       "                                                     [key], {});\n",
       "          if (!dataTable) return;\n",
       "\n",
       "          const docLinkHtml = 'Like what you see? Visit the ' +\n",
       "            '<a target=\"_blank\" href=https://colab.research.google.com/notebooks/data_table.ipynb>data table notebook</a>'\n",
       "            + ' to learn more about interactive tables.';\n",
       "          element.innerHTML = '';\n",
       "          dataTable['output_type'] = 'display_data';\n",
       "          await google.colab.output.renderOutput(dataTable, element);\n",
       "          const docLink = document.createElement('div');\n",
       "          docLink.innerHTML = docLinkHtml;\n",
       "          element.appendChild(docLink);\n",
       "        }\n",
       "      </script>\n",
       "    </div>\n",
       "  </div>\n",
       "  "
      ],
      "text/plain": [
       "                         twitter  goog_news\n",
       "(anger, hatred)         0.768769   0.590178\n",
       "(emptiness, sadness)    0.550510   0.589492\n",
       "(fun, love)             0.710840   0.466562\n",
       "(anger, sadness)        0.702778   0.451019\n",
       "(happiness, love)       0.628533   0.450275\n",
       "(boredom, emptiness)    0.361649   0.450142\n",
       "(emptiness, happiness)  0.430916   0.439732\n",
       "(happiness, sadness)    0.724261   0.426663\n",
       "(anger, enthusiasm)     0.503019   0.408466\n",
       "(hatred, sadness)       0.627424   0.395898\n",
       "(love, sadness)         0.457202   0.367016\n",
       "(enthusiasm, love)      0.194183   0.360807\n",
       "(emptiness, hatred)     0.499148   0.359813\n",
       "(hatred, love)          0.357668   0.348797\n",
       "(boredom, happiness)    0.484366   0.347592\n",
       "(enthusiasm, hatred)    0.519395   0.345579\n",
       "(boredom, sadness)      0.522585   0.342371\n",
       "(boredom, fun)          0.363095   0.340451\n",
       "(enthusiasm, sadness)   0.407770   0.328432\n",
       "(love, worry)           0.646493   0.314854"
      ]
     },
     "execution_count": 71,
     "metadata": {},
     "output_type": "execute_result"
    }
   ],
   "source": [
    "# Sort by google-news similarity\n",
    "similarity= pd.DataFrame([sim_t, sim_g]).T\n",
    "similarity.columns = ['twitter', 'goog_news']\n",
    "similarity = similarity.sort_values(by= 'goog_news', ascending = False)\n",
    "similarity.head(20)"
   ]
  },
  {
   "cell_type": "code",
   "execution_count": 72,
   "metadata": {
    "colab": {
     "base_uri": "https://localhost:8080/",
     "height": 677
    },
    "id": "nZa-IWo_wyh2",
    "outputId": "23d1d515-29e6-4556-9868-fca2a968c19c"
   },
   "outputs": [
    {
     "data": {
      "text/html": [
       "\n",
       "  <div id=\"df-6ee4ccbf-0ae1-4063-a2c5-3497bb63b868\">\n",
       "    <div class=\"colab-df-container\">\n",
       "      <div>\n",
       "<style scoped>\n",
       "    .dataframe tbody tr th:only-of-type {\n",
       "        vertical-align: middle;\n",
       "    }\n",
       "\n",
       "    .dataframe tbody tr th {\n",
       "        vertical-align: top;\n",
       "    }\n",
       "\n",
       "    .dataframe thead th {\n",
       "        text-align: right;\n",
       "    }\n",
       "</style>\n",
       "<table border=\"1\" class=\"dataframe\">\n",
       "  <thead>\n",
       "    <tr style=\"text-align: right;\">\n",
       "      <th></th>\n",
       "      <th>twitter</th>\n",
       "      <th>goog_news</th>\n",
       "    </tr>\n",
       "  </thead>\n",
       "  <tbody>\n",
       "    <tr>\n",
       "      <th>(anger, hatred)</th>\n",
       "      <td>0.768769</td>\n",
       "      <td>0.590178</td>\n",
       "    </tr>\n",
       "    <tr>\n",
       "      <th>(happiness, sadness)</th>\n",
       "      <td>0.724261</td>\n",
       "      <td>0.426663</td>\n",
       "    </tr>\n",
       "    <tr>\n",
       "      <th>(fun, love)</th>\n",
       "      <td>0.710840</td>\n",
       "      <td>0.466562</td>\n",
       "    </tr>\n",
       "    <tr>\n",
       "      <th>(anger, sadness)</th>\n",
       "      <td>0.702778</td>\n",
       "      <td>0.451019</td>\n",
       "    </tr>\n",
       "    <tr>\n",
       "      <th>(love, worry)</th>\n",
       "      <td>0.646493</td>\n",
       "      <td>0.314854</td>\n",
       "    </tr>\n",
       "    <tr>\n",
       "      <th>(fun, worry)</th>\n",
       "      <td>0.637802</td>\n",
       "      <td>0.272918</td>\n",
       "    </tr>\n",
       "    <tr>\n",
       "      <th>(happiness, worry)</th>\n",
       "      <td>0.630607</td>\n",
       "      <td>0.191000</td>\n",
       "    </tr>\n",
       "    <tr>\n",
       "      <th>(happiness, love)</th>\n",
       "      <td>0.628533</td>\n",
       "      <td>0.450275</td>\n",
       "    </tr>\n",
       "    <tr>\n",
       "      <th>(hatred, sadness)</th>\n",
       "      <td>0.627424</td>\n",
       "      <td>0.395898</td>\n",
       "    </tr>\n",
       "    <tr>\n",
       "      <th>(fun, surprise)</th>\n",
       "      <td>0.619150</td>\n",
       "      <td>0.202897</td>\n",
       "    </tr>\n",
       "    <tr>\n",
       "      <th>(anger, happiness)</th>\n",
       "      <td>0.593026</td>\n",
       "      <td>0.258086</td>\n",
       "    </tr>\n",
       "    <tr>\n",
       "      <th>(anger, boredom)</th>\n",
       "      <td>0.576564</td>\n",
       "      <td>0.276181</td>\n",
       "    </tr>\n",
       "    <tr>\n",
       "      <th>(happiness, hatred)</th>\n",
       "      <td>0.554690</td>\n",
       "      <td>0.290261</td>\n",
       "    </tr>\n",
       "    <tr>\n",
       "      <th>(emptiness, sadness)</th>\n",
       "      <td>0.550510</td>\n",
       "      <td>0.589492</td>\n",
       "    </tr>\n",
       "    <tr>\n",
       "      <th>(love, surprise)</th>\n",
       "      <td>0.541222</td>\n",
       "      <td>0.154405</td>\n",
       "    </tr>\n",
       "    <tr>\n",
       "      <th>(boredom, sadness)</th>\n",
       "      <td>0.522585</td>\n",
       "      <td>0.342371</td>\n",
       "    </tr>\n",
       "    <tr>\n",
       "      <th>(enthusiasm, hatred)</th>\n",
       "      <td>0.519395</td>\n",
       "      <td>0.345579</td>\n",
       "    </tr>\n",
       "    <tr>\n",
       "      <th>(surprise, worry)</th>\n",
       "      <td>0.505873</td>\n",
       "      <td>0.275078</td>\n",
       "    </tr>\n",
       "    <tr>\n",
       "      <th>(anger, enthusiasm)</th>\n",
       "      <td>0.503019</td>\n",
       "      <td>0.408466</td>\n",
       "    </tr>\n",
       "    <tr>\n",
       "      <th>(fun, happiness)</th>\n",
       "      <td>0.501005</td>\n",
       "      <td>0.279264</td>\n",
       "    </tr>\n",
       "  </tbody>\n",
       "</table>\n",
       "</div>\n",
       "      <button class=\"colab-df-convert\" onclick=\"convertToInteractive('df-6ee4ccbf-0ae1-4063-a2c5-3497bb63b868')\"\n",
       "              title=\"Convert this dataframe to an interactive table.\"\n",
       "              style=\"display:none;\">\n",
       "        \n",
       "  <svg xmlns=\"http://www.w3.org/2000/svg\" height=\"24px\"viewBox=\"0 0 24 24\"\n",
       "       width=\"24px\">\n",
       "    <path d=\"M0 0h24v24H0V0z\" fill=\"none\"/>\n",
       "    <path d=\"M18.56 5.44l.94 2.06.94-2.06 2.06-.94-2.06-.94-.94-2.06-.94 2.06-2.06.94zm-11 1L8.5 8.5l.94-2.06 2.06-.94-2.06-.94L8.5 2.5l-.94 2.06-2.06.94zm10 10l.94 2.06.94-2.06 2.06-.94-2.06-.94-.94-2.06-.94 2.06-2.06.94z\"/><path d=\"M17.41 7.96l-1.37-1.37c-.4-.4-.92-.59-1.43-.59-.52 0-1.04.2-1.43.59L10.3 9.45l-7.72 7.72c-.78.78-.78 2.05 0 2.83L4 21.41c.39.39.9.59 1.41.59.51 0 1.02-.2 1.41-.59l7.78-7.78 2.81-2.81c.8-.78.8-2.07 0-2.86zM5.41 20L4 18.59l7.72-7.72 1.47 1.35L5.41 20z\"/>\n",
       "  </svg>\n",
       "      </button>\n",
       "      \n",
       "  <style>\n",
       "    .colab-df-container {\n",
       "      display:flex;\n",
       "      flex-wrap:wrap;\n",
       "      gap: 12px;\n",
       "    }\n",
       "\n",
       "    .colab-df-convert {\n",
       "      background-color: #E8F0FE;\n",
       "      border: none;\n",
       "      border-radius: 50%;\n",
       "      cursor: pointer;\n",
       "      display: none;\n",
       "      fill: #1967D2;\n",
       "      height: 32px;\n",
       "      padding: 0 0 0 0;\n",
       "      width: 32px;\n",
       "    }\n",
       "\n",
       "    .colab-df-convert:hover {\n",
       "      background-color: #E2EBFA;\n",
       "      box-shadow: 0px 1px 2px rgba(60, 64, 67, 0.3), 0px 1px 3px 1px rgba(60, 64, 67, 0.15);\n",
       "      fill: #174EA6;\n",
       "    }\n",
       "\n",
       "    [theme=dark] .colab-df-convert {\n",
       "      background-color: #3B4455;\n",
       "      fill: #D2E3FC;\n",
       "    }\n",
       "\n",
       "    [theme=dark] .colab-df-convert:hover {\n",
       "      background-color: #434B5C;\n",
       "      box-shadow: 0px 1px 3px 1px rgba(0, 0, 0, 0.15);\n",
       "      filter: drop-shadow(0px 1px 2px rgba(0, 0, 0, 0.3));\n",
       "      fill: #FFFFFF;\n",
       "    }\n",
       "  </style>\n",
       "\n",
       "      <script>\n",
       "        const buttonEl =\n",
       "          document.querySelector('#df-6ee4ccbf-0ae1-4063-a2c5-3497bb63b868 button.colab-df-convert');\n",
       "        buttonEl.style.display =\n",
       "          google.colab.kernel.accessAllowed ? 'block' : 'none';\n",
       "\n",
       "        async function convertToInteractive(key) {\n",
       "          const element = document.querySelector('#df-6ee4ccbf-0ae1-4063-a2c5-3497bb63b868');\n",
       "          const dataTable =\n",
       "            await google.colab.kernel.invokeFunction('convertToInteractive',\n",
       "                                                     [key], {});\n",
       "          if (!dataTable) return;\n",
       "\n",
       "          const docLinkHtml = 'Like what you see? Visit the ' +\n",
       "            '<a target=\"_blank\" href=https://colab.research.google.com/notebooks/data_table.ipynb>data table notebook</a>'\n",
       "            + ' to learn more about interactive tables.';\n",
       "          element.innerHTML = '';\n",
       "          dataTable['output_type'] = 'display_data';\n",
       "          await google.colab.output.renderOutput(dataTable, element);\n",
       "          const docLink = document.createElement('div');\n",
       "          docLink.innerHTML = docLinkHtml;\n",
       "          element.appendChild(docLink);\n",
       "        }\n",
       "      </script>\n",
       "    </div>\n",
       "  </div>\n",
       "  "
      ],
      "text/plain": [
       "                       twitter  goog_news\n",
       "(anger, hatred)       0.768769   0.590178\n",
       "(happiness, sadness)  0.724261   0.426663\n",
       "(fun, love)           0.710840   0.466562\n",
       "(anger, sadness)      0.702778   0.451019\n",
       "(love, worry)         0.646493   0.314854\n",
       "(fun, worry)          0.637802   0.272918\n",
       "(happiness, worry)    0.630607   0.191000\n",
       "(happiness, love)     0.628533   0.450275\n",
       "(hatred, sadness)     0.627424   0.395898\n",
       "(fun, surprise)       0.619150   0.202897\n",
       "(anger, happiness)    0.593026   0.258086\n",
       "(anger, boredom)      0.576564   0.276181\n",
       "(happiness, hatred)   0.554690   0.290261\n",
       "(emptiness, sadness)  0.550510   0.589492\n",
       "(love, surprise)      0.541222   0.154405\n",
       "(boredom, sadness)    0.522585   0.342371\n",
       "(enthusiasm, hatred)  0.519395   0.345579\n",
       "(surprise, worry)     0.505873   0.275078\n",
       "(anger, enthusiasm)   0.503019   0.408466\n",
       "(fun, happiness)      0.501005   0.279264"
      ]
     },
     "execution_count": 72,
     "metadata": {},
     "output_type": "execute_result"
    }
   ],
   "source": [
    "# Sort by twitter similarity\n",
    "similarity_t = similarity.copy()\n",
    "similarity_t =similarity_t.sort_values(by= 'twitter', ascending = False)\n",
    "similarity_t.head(20)\n"
   ]
  },
  {
   "cell_type": "code",
   "execution_count": 73,
   "metadata": {
    "colab": {
     "base_uri": "https://localhost:8080/"
    },
    "id": "SS4BP3YIwylT",
    "outputId": "ea56cedc-f1f3-4d17-c201-d1613f5d025d"
   },
   "outputs": [
    {
     "name": "stdout",
     "output_type": "stream",
     "text": [
      "('anger', 'relief') 0.4591962\n",
      "('boredom', 'relief') 0.3327248\n",
      "('emptiness', 'relief') 0.24379823\n",
      "('enthusiasm', 'relief') 0.29858676\n",
      "('fun', 'relief') 0.353736\n",
      "('happiness', 'relief') 0.40495405\n",
      "('hatred', 'relief') 0.40448517\n",
      "('love', 'relief') 0.3014868\n",
      "('neutral', 'relief') 0.27753094\n",
      "('relief', 'sadness') 0.32705474\n",
      "('relief', 'surprise') 0.33689827\n",
      "('relief', 'worry') 0.30643463\n"
     ]
    }
   ],
   "source": [
    "# Similarities to relief\n",
    "for k in sim_t:\n",
    "    if 'relief' in k:\n",
    "        print(k, sim_t[k])\n",
    "        "
   ]
  },
  {
   "cell_type": "markdown",
   "metadata": {
    "id": "gyXix6Tfwxge"
   },
   "source": [
    "<h3> 3.5 Aggregating emotions </h3>"
   ]
  },
  {
   "cell_type": "markdown",
   "metadata": {
    "id": "Oh5Qy2zBwxpT"
   },
   "source": [
    "-  **anger** - hatred and anger\n",
    "-  **happiness** - enthusiasm, fun, love, hapiness, relief, surprise\n",
    "-  **neutral** - neutral\n",
    "-  **sadness** - boredom, emptiness and sadness\n",
    "-  **worry** - worry dropped"
   ]
  },
  {
   "cell_type": "code",
   "execution_count": 74,
   "metadata": {
    "id": "HUf9NMDgyFzJ"
   },
   "outputs": [],
   "source": [
    "# Change column name from sentiment to emotion\n",
    "df_emotions.rename(columns = {'sentiment':'emotion'}, inplace=True)"
   ]
  },
  {
   "cell_type": "code",
   "execution_count": 76,
   "metadata": {
    "id": "B8BAE901aLqL"
   },
   "outputs": [],
   "source": [
    "df_emotions.emotion.replace({'hatred': 'anger', 'emptiness': 'sadness', 'boredom':'sadness', \n",
    "                      'fun': 'happiness', 'love': 'happiness', 'enthusiasm': 'happiness', \n",
    "                      'surprise': 'happiness', 'relief': 'happiness'}, inplace=True)\n"
   ]
  },
  {
   "cell_type": "code",
   "execution_count": 77,
   "metadata": {
    "id": "X5ekRKSg1A1t"
   },
   "outputs": [],
   "source": [
    "# Removing worry \n",
    "df_emotions = df_emotions[df_emotions.emotion != 'worry']\n"
   ]
  },
  {
   "cell_type": "markdown",
   "metadata": {
    "id": "eezKEKHho-QI"
   },
   "source": [
    "<h3> 3.6 Removing unnecesary column </h3>"
   ]
  },
  {
   "cell_type": "code",
   "execution_count": 78,
   "metadata": {
    "colab": {
     "base_uri": "https://localhost:8080/",
     "height": 206
    },
    "id": "psaO1a5_S9Gb",
    "outputId": "2c10e04a-8664-47a1-f15a-022171a72b29"
   },
   "outputs": [
    {
     "data": {
      "text/html": [
       "\n",
       "  <div id=\"df-947cb01a-07de-482e-9ba4-5ef78a0905fd\">\n",
       "    <div class=\"colab-df-container\">\n",
       "      <div>\n",
       "<style scoped>\n",
       "    .dataframe tbody tr th:only-of-type {\n",
       "        vertical-align: middle;\n",
       "    }\n",
       "\n",
       "    .dataframe tbody tr th {\n",
       "        vertical-align: top;\n",
       "    }\n",
       "\n",
       "    .dataframe thead th {\n",
       "        text-align: right;\n",
       "    }\n",
       "</style>\n",
       "<table border=\"1\" class=\"dataframe\">\n",
       "  <thead>\n",
       "    <tr style=\"text-align: right;\">\n",
       "      <th></th>\n",
       "      <th>emotion</th>\n",
       "      <th>content</th>\n",
       "    </tr>\n",
       "  </thead>\n",
       "  <tbody>\n",
       "    <tr>\n",
       "      <th>0</th>\n",
       "      <td>sadness</td>\n",
       "      <td>@tiffanylue i know  i was listenin to bad habi...</td>\n",
       "    </tr>\n",
       "    <tr>\n",
       "      <th>1</th>\n",
       "      <td>sadness</td>\n",
       "      <td>Layin n bed with a headache  ughhhh...waitin o...</td>\n",
       "    </tr>\n",
       "    <tr>\n",
       "      <th>2</th>\n",
       "      <td>sadness</td>\n",
       "      <td>Funeral ceremony...gloomy friday...</td>\n",
       "    </tr>\n",
       "    <tr>\n",
       "      <th>3</th>\n",
       "      <td>happiness</td>\n",
       "      <td>wants to hang out with friends SOON!</td>\n",
       "    </tr>\n",
       "    <tr>\n",
       "      <th>4</th>\n",
       "      <td>neutral</td>\n",
       "      <td>@dannycastillo We want to trade with someone w...</td>\n",
       "    </tr>\n",
       "  </tbody>\n",
       "</table>\n",
       "</div>\n",
       "      <button class=\"colab-df-convert\" onclick=\"convertToInteractive('df-947cb01a-07de-482e-9ba4-5ef78a0905fd')\"\n",
       "              title=\"Convert this dataframe to an interactive table.\"\n",
       "              style=\"display:none;\">\n",
       "        \n",
       "  <svg xmlns=\"http://www.w3.org/2000/svg\" height=\"24px\"viewBox=\"0 0 24 24\"\n",
       "       width=\"24px\">\n",
       "    <path d=\"M0 0h24v24H0V0z\" fill=\"none\"/>\n",
       "    <path d=\"M18.56 5.44l.94 2.06.94-2.06 2.06-.94-2.06-.94-.94-2.06-.94 2.06-2.06.94zm-11 1L8.5 8.5l.94-2.06 2.06-.94-2.06-.94L8.5 2.5l-.94 2.06-2.06.94zm10 10l.94 2.06.94-2.06 2.06-.94-2.06-.94-.94-2.06-.94 2.06-2.06.94z\"/><path d=\"M17.41 7.96l-1.37-1.37c-.4-.4-.92-.59-1.43-.59-.52 0-1.04.2-1.43.59L10.3 9.45l-7.72 7.72c-.78.78-.78 2.05 0 2.83L4 21.41c.39.39.9.59 1.41.59.51 0 1.02-.2 1.41-.59l7.78-7.78 2.81-2.81c.8-.78.8-2.07 0-2.86zM5.41 20L4 18.59l7.72-7.72 1.47 1.35L5.41 20z\"/>\n",
       "  </svg>\n",
       "      </button>\n",
       "      \n",
       "  <style>\n",
       "    .colab-df-container {\n",
       "      display:flex;\n",
       "      flex-wrap:wrap;\n",
       "      gap: 12px;\n",
       "    }\n",
       "\n",
       "    .colab-df-convert {\n",
       "      background-color: #E8F0FE;\n",
       "      border: none;\n",
       "      border-radius: 50%;\n",
       "      cursor: pointer;\n",
       "      display: none;\n",
       "      fill: #1967D2;\n",
       "      height: 32px;\n",
       "      padding: 0 0 0 0;\n",
       "      width: 32px;\n",
       "    }\n",
       "\n",
       "    .colab-df-convert:hover {\n",
       "      background-color: #E2EBFA;\n",
       "      box-shadow: 0px 1px 2px rgba(60, 64, 67, 0.3), 0px 1px 3px 1px rgba(60, 64, 67, 0.15);\n",
       "      fill: #174EA6;\n",
       "    }\n",
       "\n",
       "    [theme=dark] .colab-df-convert {\n",
       "      background-color: #3B4455;\n",
       "      fill: #D2E3FC;\n",
       "    }\n",
       "\n",
       "    [theme=dark] .colab-df-convert:hover {\n",
       "      background-color: #434B5C;\n",
       "      box-shadow: 0px 1px 3px 1px rgba(0, 0, 0, 0.15);\n",
       "      filter: drop-shadow(0px 1px 2px rgba(0, 0, 0, 0.3));\n",
       "      fill: #FFFFFF;\n",
       "    }\n",
       "  </style>\n",
       "\n",
       "      <script>\n",
       "        const buttonEl =\n",
       "          document.querySelector('#df-947cb01a-07de-482e-9ba4-5ef78a0905fd button.colab-df-convert');\n",
       "        buttonEl.style.display =\n",
       "          google.colab.kernel.accessAllowed ? 'block' : 'none';\n",
       "\n",
       "        async function convertToInteractive(key) {\n",
       "          const element = document.querySelector('#df-947cb01a-07de-482e-9ba4-5ef78a0905fd');\n",
       "          const dataTable =\n",
       "            await google.colab.kernel.invokeFunction('convertToInteractive',\n",
       "                                                     [key], {});\n",
       "          if (!dataTable) return;\n",
       "\n",
       "          const docLinkHtml = 'Like what you see? Visit the ' +\n",
       "            '<a target=\"_blank\" href=https://colab.research.google.com/notebooks/data_table.ipynb>data table notebook</a>'\n",
       "            + ' to learn more about interactive tables.';\n",
       "          element.innerHTML = '';\n",
       "          dataTable['output_type'] = 'display_data';\n",
       "          await google.colab.output.renderOutput(dataTable, element);\n",
       "          const docLink = document.createElement('div');\n",
       "          docLink.innerHTML = docLinkHtml;\n",
       "          element.appendChild(docLink);\n",
       "        }\n",
       "      </script>\n",
       "    </div>\n",
       "  </div>\n",
       "  "
      ],
      "text/plain": [
       "     emotion                                            content\n",
       "0    sadness  @tiffanylue i know  i was listenin to bad habi...\n",
       "1    sadness  Layin n bed with a headache  ughhhh...waitin o...\n",
       "2    sadness                Funeral ceremony...gloomy friday...\n",
       "3  happiness               wants to hang out with friends SOON!\n",
       "4    neutral  @dannycastillo We want to trade with someone w..."
      ]
     },
     "execution_count": 78,
     "metadata": {},
     "output_type": "execute_result"
    }
   ],
   "source": [
    "df_emotions = df_emotions[['emotion','content']]\n",
    "df_emotions.head(5)\n"
   ]
  },
  {
   "cell_type": "markdown",
   "metadata": {
    "id": "gY2yGePqeGK0"
   },
   "source": [
    "Let's review the unique emotions"
   ]
  },
  {
   "cell_type": "code",
   "execution_count": 79,
   "metadata": {
    "colab": {
     "base_uri": "https://localhost:8080/"
    },
    "id": "jJr7QXMFA3Q2",
    "outputId": "80f5b896-b6f9-41d4-c47f-17793c6ab429"
   },
   "outputs": [
    {
     "data": {
      "text/plain": [
       "happiness    15299\n",
       "neutral       8638\n",
       "sadness       6171\n",
       "anger         1433\n",
       "Name: emotion, dtype: int64"
      ]
     },
     "execution_count": 79,
     "metadata": {},
     "output_type": "execute_result"
    }
   ],
   "source": [
    "df_emotions['emotion'].value_counts()"
   ]
  },
  {
   "cell_type": "code",
   "execution_count": 80,
   "metadata": {
    "colab": {
     "base_uri": "https://localhost:8080/"
    },
    "id": "DkhMgMLkF986",
    "outputId": "87e89ef5-3e59-47d3-b3ac-d7b9bd1a21e9"
   },
   "outputs": [
    {
     "name": "stdout",
     "output_type": "stream",
     "text": [
      "['anger', 'happiness', 'neutral', 'sadness']\n"
     ]
    }
   ],
   "source": [
    "# Extract the unique emotions\n",
    "emotions = sorted(list(df_emotions['emotion'].unique()))\n",
    "print(emotions)"
   ]
  },
  {
   "cell_type": "markdown",
   "metadata": {
    "id": "C5WbjyH6hFn-"
   },
   "source": [
    "<h3> 3.7 Assigning  encoded labels </h3>"
   ]
  },
  {
   "cell_type": "code",
   "execution_count": 81,
   "metadata": {
    "colab": {
     "base_uri": "https://localhost:8080/"
    },
    "id": "70BFEIU3u6mY",
    "outputId": "6aaf847a-6e25-4756-d2e9-07b65871a9cd"
   },
   "outputs": [
    {
     "name": "stdout",
     "output_type": "stream",
     "text": [
      "{'anger': 0, 'happiness': 1, 'neutral': 2, 'sadness': 3}\n"
     ]
    }
   ],
   "source": [
    "# Creating the label dictionary\n",
    "emo_to_label = {em:i for i, em in enumerate(emotions)}\n",
    "print(emo_to_label)"
   ]
  },
  {
   "cell_type": "code",
   "execution_count": 82,
   "metadata": {
    "id": "pThIADsMmL9v"
   },
   "outputs": [],
   "source": [
    "# Get the class from encoded label\n",
    "label_to_emotion = {i:em for i, em in enumerate(emotions)}"
   ]
  },
  {
   "cell_type": "markdown",
   "metadata": {
    "id": "UQTVyAc8aREm"
   },
   "source": [
    "<h3> 3.8 Creating the encoded labels</h3>"
   ]
  },
  {
   "cell_type": "code",
   "execution_count": 83,
   "metadata": {
    "id": "zPF-0bvH62y6"
   },
   "outputs": [],
   "source": [
    "label = [emo_to_label[em] for em in df_emotions.emotion]"
   ]
  },
  {
   "cell_type": "code",
   "execution_count": 85,
   "metadata": {
    "id": "pBp3Xd2_mYCb"
   },
   "outputs": [],
   "source": [
    "# df_emotions['label']=label\n",
    "df_emotions.insert(2, 'label', label )"
   ]
  },
  {
   "cell_type": "code",
   "execution_count": 86,
   "metadata": {
    "colab": {
     "base_uri": "https://localhost:8080/",
     "height": 206
    },
    "id": "B3k6hGgC0zb8",
    "outputId": "aa2a0806-f407-42e8-e0b0-3a18f704c2b3"
   },
   "outputs": [
    {
     "data": {
      "text/html": [
       "\n",
       "  <div id=\"df-17b51de3-b9e5-4038-b64f-9f61f0192023\">\n",
       "    <div class=\"colab-df-container\">\n",
       "      <div>\n",
       "<style scoped>\n",
       "    .dataframe tbody tr th:only-of-type {\n",
       "        vertical-align: middle;\n",
       "    }\n",
       "\n",
       "    .dataframe tbody tr th {\n",
       "        vertical-align: top;\n",
       "    }\n",
       "\n",
       "    .dataframe thead th {\n",
       "        text-align: right;\n",
       "    }\n",
       "</style>\n",
       "<table border=\"1\" class=\"dataframe\">\n",
       "  <thead>\n",
       "    <tr style=\"text-align: right;\">\n",
       "      <th></th>\n",
       "      <th>emotion</th>\n",
       "      <th>content</th>\n",
       "      <th>label</th>\n",
       "    </tr>\n",
       "  </thead>\n",
       "  <tbody>\n",
       "    <tr>\n",
       "      <th>0</th>\n",
       "      <td>sadness</td>\n",
       "      <td>@tiffanylue i know  i was listenin to bad habi...</td>\n",
       "      <td>3</td>\n",
       "    </tr>\n",
       "    <tr>\n",
       "      <th>1</th>\n",
       "      <td>sadness</td>\n",
       "      <td>Layin n bed with a headache  ughhhh...waitin o...</td>\n",
       "      <td>3</td>\n",
       "    </tr>\n",
       "    <tr>\n",
       "      <th>2</th>\n",
       "      <td>sadness</td>\n",
       "      <td>Funeral ceremony...gloomy friday...</td>\n",
       "      <td>3</td>\n",
       "    </tr>\n",
       "    <tr>\n",
       "      <th>3</th>\n",
       "      <td>happiness</td>\n",
       "      <td>wants to hang out with friends SOON!</td>\n",
       "      <td>1</td>\n",
       "    </tr>\n",
       "    <tr>\n",
       "      <th>4</th>\n",
       "      <td>neutral</td>\n",
       "      <td>@dannycastillo We want to trade with someone w...</td>\n",
       "      <td>2</td>\n",
       "    </tr>\n",
       "  </tbody>\n",
       "</table>\n",
       "</div>\n",
       "      <button class=\"colab-df-convert\" onclick=\"convertToInteractive('df-17b51de3-b9e5-4038-b64f-9f61f0192023')\"\n",
       "              title=\"Convert this dataframe to an interactive table.\"\n",
       "              style=\"display:none;\">\n",
       "        \n",
       "  <svg xmlns=\"http://www.w3.org/2000/svg\" height=\"24px\"viewBox=\"0 0 24 24\"\n",
       "       width=\"24px\">\n",
       "    <path d=\"M0 0h24v24H0V0z\" fill=\"none\"/>\n",
       "    <path d=\"M18.56 5.44l.94 2.06.94-2.06 2.06-.94-2.06-.94-.94-2.06-.94 2.06-2.06.94zm-11 1L8.5 8.5l.94-2.06 2.06-.94-2.06-.94L8.5 2.5l-.94 2.06-2.06.94zm10 10l.94 2.06.94-2.06 2.06-.94-2.06-.94-.94-2.06-.94 2.06-2.06.94z\"/><path d=\"M17.41 7.96l-1.37-1.37c-.4-.4-.92-.59-1.43-.59-.52 0-1.04.2-1.43.59L10.3 9.45l-7.72 7.72c-.78.78-.78 2.05 0 2.83L4 21.41c.39.39.9.59 1.41.59.51 0 1.02-.2 1.41-.59l7.78-7.78 2.81-2.81c.8-.78.8-2.07 0-2.86zM5.41 20L4 18.59l7.72-7.72 1.47 1.35L5.41 20z\"/>\n",
       "  </svg>\n",
       "      </button>\n",
       "      \n",
       "  <style>\n",
       "    .colab-df-container {\n",
       "      display:flex;\n",
       "      flex-wrap:wrap;\n",
       "      gap: 12px;\n",
       "    }\n",
       "\n",
       "    .colab-df-convert {\n",
       "      background-color: #E8F0FE;\n",
       "      border: none;\n",
       "      border-radius: 50%;\n",
       "      cursor: pointer;\n",
       "      display: none;\n",
       "      fill: #1967D2;\n",
       "      height: 32px;\n",
       "      padding: 0 0 0 0;\n",
       "      width: 32px;\n",
       "    }\n",
       "\n",
       "    .colab-df-convert:hover {\n",
       "      background-color: #E2EBFA;\n",
       "      box-shadow: 0px 1px 2px rgba(60, 64, 67, 0.3), 0px 1px 3px 1px rgba(60, 64, 67, 0.15);\n",
       "      fill: #174EA6;\n",
       "    }\n",
       "\n",
       "    [theme=dark] .colab-df-convert {\n",
       "      background-color: #3B4455;\n",
       "      fill: #D2E3FC;\n",
       "    }\n",
       "\n",
       "    [theme=dark] .colab-df-convert:hover {\n",
       "      background-color: #434B5C;\n",
       "      box-shadow: 0px 1px 3px 1px rgba(0, 0, 0, 0.15);\n",
       "      filter: drop-shadow(0px 1px 2px rgba(0, 0, 0, 0.3));\n",
       "      fill: #FFFFFF;\n",
       "    }\n",
       "  </style>\n",
       "\n",
       "      <script>\n",
       "        const buttonEl =\n",
       "          document.querySelector('#df-17b51de3-b9e5-4038-b64f-9f61f0192023 button.colab-df-convert');\n",
       "        buttonEl.style.display =\n",
       "          google.colab.kernel.accessAllowed ? 'block' : 'none';\n",
       "\n",
       "        async function convertToInteractive(key) {\n",
       "          const element = document.querySelector('#df-17b51de3-b9e5-4038-b64f-9f61f0192023');\n",
       "          const dataTable =\n",
       "            await google.colab.kernel.invokeFunction('convertToInteractive',\n",
       "                                                     [key], {});\n",
       "          if (!dataTable) return;\n",
       "\n",
       "          const docLinkHtml = 'Like what you see? Visit the ' +\n",
       "            '<a target=\"_blank\" href=https://colab.research.google.com/notebooks/data_table.ipynb>data table notebook</a>'\n",
       "            + ' to learn more about interactive tables.';\n",
       "          element.innerHTML = '';\n",
       "          dataTable['output_type'] = 'display_data';\n",
       "          await google.colab.output.renderOutput(dataTable, element);\n",
       "          const docLink = document.createElement('div');\n",
       "          docLink.innerHTML = docLinkHtml;\n",
       "          element.appendChild(docLink);\n",
       "        }\n",
       "      </script>\n",
       "    </div>\n",
       "  </div>\n",
       "  "
      ],
      "text/plain": [
       "     emotion                                            content  label\n",
       "0    sadness  @tiffanylue i know  i was listenin to bad habi...      3\n",
       "1    sadness  Layin n bed with a headache  ughhhh...waitin o...      3\n",
       "2    sadness                Funeral ceremony...gloomy friday...      3\n",
       "3  happiness               wants to hang out with friends SOON!      1\n",
       "4    neutral  @dannycastillo We want to trade with someone w...      2"
      ]
     },
     "execution_count": 86,
     "metadata": {},
     "output_type": "execute_result"
    }
   ],
   "source": [
    "df_emotions.head()"
   ]
  },
  {
   "cell_type": "markdown",
   "metadata": {
    "id": "UyaoLNJmR45r"
   },
   "source": [
    "<h2> 4. Dataset subsets </h2>\n",
    "\n",
    "Here we will replace any emoticons with test and split the dataset in three subsets: training, validation and test.  "
   ]
  },
  {
   "cell_type": "markdown",
   "metadata": {
    "id": "gmGTGjoE10wz"
   },
   "source": [
    "<h3> 4.1 Replace emoticons </h3>"
   ]
  },
  {
   "cell_type": "code",
   "execution_count": 87,
   "metadata": {
    "id": "GZA1WuZ97wP9"
   },
   "outputs": [],
   "source": [
    "def replace_emoticons(text):\n",
    "    \"\"\"\n",
    "    :param text: text to process\n",
    "    :return: text with emoticons converted to text \n",
    "    \"\"\"\n",
    "    for em in emot_dict:\n",
    "        text = text.replace(em, emot_dict[em].replace(\" \",\"_\"))\n",
    "    return text"
   ]
  },
  {
   "cell_type": "code",
   "execution_count": 88,
   "metadata": {
    "id": "CeCQKOxC976H"
   },
   "outputs": [],
   "source": [
    "# replace emoticons \n",
    "replace_emot = True\n",
    "if replace_emot:\n",
    "    for r, t in enumerate(df_emotions.content):\n",
    "        t = replace_emoticons(t)\n",
    "        df_emotions.iat[r, 1] = t"
   ]
  },
  {
   "cell_type": "markdown",
   "metadata": {
    "id": "6F2Fm9Oq-Z0c"
   },
   "source": [
    "<h3> 4.2 Splitting the dataset </h3>\n",
    "\n",
    "To address the class imbalace the dataset will be split by label stratification using scikit-learn train_test_split function."
   ]
  },
  {
   "cell_type": "code",
   "execution_count": 89,
   "metadata": {
    "id": "hV-tojZITejO"
   },
   "outputs": [],
   "source": [
    "X = df_emotions.content.values\n",
    "y = df_emotions.label.values\n",
    "X_train, X_val, y_train, y_val = train_test_split(X, y, test_size=0.20, stratify=y, \n",
    "                                                  random_state= seed_)"
   ]
  },
  {
   "cell_type": "code",
   "execution_count": 90,
   "metadata": {
    "id": "eWg1P0J4Uei_"
   },
   "outputs": [],
   "source": [
    "X_val, X_test, y_val, y_test = train_test_split(X_val, y_val, test_size=0.5, stratify=y_val,\n",
    "                                                random_state= seed_)\n"
   ]
  },
  {
   "cell_type": "markdown",
   "metadata": {
    "id": "rRxPT0Dq5KEP"
   },
   "source": [
    "<h3> 4.3 Visualisation of emotion distribution </h3>"
   ]
  },
  {
   "cell_type": "code",
   "execution_count": 91,
   "metadata": {
    "colab": {
     "base_uri": "https://localhost:8080/",
     "height": 379
    },
    "id": "uQ0IVmz7rQEy",
    "outputId": "bc0a29c2-4322-4b37-dfea-e5d1695bdd2f"
   },
   "outputs": [
    {
     "data": {
      "text/plain": [
       "Text(0.5, 0, 'Emotion')"
      ]
     },
     "execution_count": 91,
     "metadata": {},
     "output_type": "execute_result"
    },
    {
     "data": {
      "image/png": "[encoded data removed]",
      "text/plain": [
       "<Figure size 432x288 with 1 Axes>"
      ]
     },
     "metadata": {},
     "output_type": "display_data"
    }
   ],
   "source": [
    "df_emotions.emotion.value_counts().plot.bar(color='green', fontsize=14)\n",
    "plt.title(\"Emotions distribution after feature selection\")\n",
    "plt.ylabel(\"Counts\")\n",
    "plt.xlabel(\"Emotion\")"
   ]
  },
  {
   "cell_type": "markdown",
   "metadata": {
    "id": "jMD2KhVjrett"
   },
   "source": [
    "<h3> 4.4 Verifying the instances per split </h3>"
   ]
  },
  {
   "cell_type": "code",
   "execution_count": 92,
   "metadata": {
    "colab": {
     "base_uri": "https://localhost:8080/"
    },
    "id": "OZHJdYJkkg8Z",
    "outputId": "461b5643-f32c-4826-966f-7682f986f593",
    "scrolled": true
   },
   "outputs": [
    {
     "name": "stdout",
     "output_type": "stream",
     "text": [
      "Train data: 25232\n",
      "Val data: 3154\n",
      "Test data: 3155\n"
     ]
    }
   ],
   "source": [
    "print('Train data: {}'.format(len(X_train)))\n",
    "print('Val data: {}'.format(len(X_val)))\n",
    "print('Test data: {}'.format(len(X_test)))"
   ]
  },
  {
   "cell_type": "code",
   "execution_count": 93,
   "metadata": {
    "colab": {
     "base_uri": "https://localhost:8080/"
    },
    "id": "DbtbOv5Bqw3_",
    "outputId": "9d5606ab-10a5-47db-a7e9-e6536f80b602"
   },
   "outputs": [
    {
     "name": "stdout",
     "output_type": "stream",
     "text": [
      "Classes intances in train dataset {'anger': 1146, 'happiness': 12239, 'neutral': 6910, 'sadness': 4937}\n",
      "Classes intances in validation dataset {'anger': 143, 'happiness': 1530, 'neutral': 864, 'sadness': 617}\n",
      "Classes intances in test dataset {'anger': 144, 'happiness': 1530, 'neutral': 864, 'sadness': 617}\n"
     ]
    }
   ],
   "source": [
    "class_count_train = {}\n",
    "class_count_val = {}\n",
    "class_count_test = {}\n",
    "\n",
    "for label in emo_to_label:\n",
    "    class_count_train[label] = np.count_nonzero(y_train == emo_to_label[label])\n",
    "\n",
    "for label in emo_to_label:\n",
    "    class_count_val[label] = np.count_nonzero(y_val == emo_to_label[label])\n",
    "\n",
    "for label in emo_to_label:\n",
    "    class_count_test[label] = np.count_nonzero(y_test == emo_to_label[label])\n",
    "    \n",
    "print('Classes intances in train dataset {}'.format(class_count_train))\n",
    "print('Classes intances in validation dataset {}'.format(class_count_val)) \n",
    "print('Classes intances in test dataset {}'.format(class_count_test))   \n"
   ]
  },
  {
   "cell_type": "markdown",
   "metadata": {
    "id": "jfjEFVNbeGK5"
   },
   "source": [
    "<h2> 5. Visualizing the size of the tweets </h2>"
   ]
  },
  {
   "cell_type": "code",
   "execution_count": 94,
   "metadata": {
    "id": "GdP-Y2l58AEA"
   },
   "outputs": [],
   "source": [
    "tokenizer = BertTokenizerFast.from_pretrained('bert-base-uncased',\n",
    "                                               clean_text=True)"
   ]
  },
  {
   "cell_type": "code",
   "execution_count": 95,
   "metadata": {
    "id": "nkCaCq72sXXs"
   },
   "outputs": [],
   "source": [
    "len_tokens = list()\n",
    "for txt in df_emotions.content:\n",
    "    # Half of BERT length\n",
    "    tokens = tokenizer.encode(txt, truncation=True, max_length=256) \n",
    "    len_tokens.append(len(tokens))\n"
   ]
  },
  {
   "cell_type": "code",
   "execution_count": 96,
   "metadata": {
    "colab": {
     "base_uri": "https://localhost:8080/"
    },
    "id": "e9zdvluyI1pu",
    "outputId": "9bcde457-0a71-4ce4-d56f-365f099c614a"
   },
   "outputs": [
    {
     "name": "stdout",
     "output_type": "stream",
     "text": [
      "Max tokens: 123, min tokens: 3\n"
     ]
    }
   ],
   "source": [
    "print('Max tokens: {}, min tokens: {}'.format(max(len_tokens), min(len_tokens)))"
   ]
  },
  {
   "cell_type": "code",
   "execution_count": 97,
   "metadata": {
    "colab": {
     "base_uri": "https://localhost:8080/",
     "height": 300
    },
    "id": "YDT9PnIjsvTW",
    "outputId": "4923774e-6ec0-413d-c11b-5b0ba7c381cb"
   },
   "outputs": [
    {
     "data": {
      "text/plain": [
       "Text(0.5, 0, 'Token count')"
      ]
     },
     "execution_count": 97,
     "metadata": {},
     "output_type": "execute_result"
    },
    {
     "data": {
      "image/png": "[encoded data removed]",
      "text/plain": [
       "<Figure size 432x288 with 1 Axes>"
      ]
     },
     "metadata": {},
     "output_type": "display_data"
    }
   ],
   "source": [
    "sns.histplot(len_tokens)\n",
    "plt.xlim([0, 123])\n",
    "plt.xlabel('Token count')"
   ]
  },
  {
   "cell_type": "markdown",
   "metadata": {
    "id": "qNFUMrkNeGK7"
   },
   "source": [
    "The histogram shows that most of the tweets have under 60 tokens and maximum of 123. We will use the maximun length of 125 for our models."
   ]
  },
  {
   "cell_type": "markdown",
   "metadata": {
    "id": "Q0Wt5c5E1QYl"
   },
   "source": [
    "<h2> 6. Built customised dataset constructor, classifier methods and training function </h2>"
   ]
  },
  {
   "cell_type": "markdown",
   "metadata": {
    "id": "G8rZeqcL4d4W"
   },
   "source": [
    "<h3> 6.1 Building the data class to feed to the model </h3>"
   ]
  },
  {
   "cell_type": "code",
   "execution_count": 98,
   "metadata": {
    "id": "VlXF-k0J4eWK"
   },
   "outputs": [],
   "source": [
    "class EmotionsDataset(Dataset):\n",
    "\n",
    "    def __init__(self, content, targets, tokenizer, max_length):\n",
    "        self.content = content\n",
    "        self.targets = targets\n",
    "        self.tokenizer = tokenizer\n",
    "        self.max_length = max_length\n",
    "  \n",
    "    def __getitem__(self, idx):\n",
    "        tweet = str(self.content[idx])\n",
    "        target = self.targets[idx]\n",
    "\n",
    "        encoded_sent = self.tokenizer.encode_plus(tweet,\n",
    "          add_special_tokens=True,\n",
    "          return_token_type_ids=False,\n",
    "          max_length = self.max_length,\n",
    "          padding = 'max_length',\n",
    "          truncation = True,\n",
    "          return_attention_mask=True,\n",
    "          return_tensors='pt')\n",
    "\n",
    "        o = dict()\n",
    "        o['attention_mask'] = encoded_sent['attention_mask'].flatten()\n",
    "        o['input_ids'] = encoded_sent['input_ids'].flatten()\n",
    "        o['sent_text'] = tweet\n",
    "        o['targets']= torch.tensor(target, dtype=torch.long)\n",
    "        return o\n",
    "   \n",
    "    def __len__(self):\n",
    "\n",
    "        return len(self.content)\n"
   ]
  },
  {
   "cell_type": "markdown",
   "metadata": {
    "id": "vqtP5ztas6W-"
   },
   "source": [
    "<h3> 6.2 Building BERT, DistilBert and RoBERTa Multiclass Sequence Classifiers </h3>"
   ]
  },
  {
   "cell_type": "code",
   "execution_count": 99,
   "metadata": {
    "id": "YVy1utpVth4_"
   },
   "outputs": [],
   "source": [
    "class EmotionClassifiers(nn.Module):\n",
    "\n",
    "    def __init__(self, base_model, hidden=None, num_classes=2, p=0.2, freeze_params=False):\n",
    "\n",
    "        super(EmotionClassifiers, self).__init__()\n",
    "\n",
    "        if hidden is None:\n",
    "            hidden = [512, 512]\n",
    "        self.base_model = base_model \n",
    "        self.num_classes = num_classes\n",
    "        self.hidden = hidden\n",
    "        self.dropout = nn.Dropout(p)\n",
    "        self.classifier = nn.Sequential(\n",
    "            nn.Linear(base_model.config.hidden_size, self.hidden[0]),\n",
    "            nn.ReLU(),\n",
    "            nn.Dropout(0.2),\n",
    "            nn.Linear(self.hidden[0], self.hidden[1]),\n",
    "            nn.Dropout(0.2),\n",
    "            nn.Linear(self.hidden[1], self.num_classes))\n",
    "\n",
    "        if freeze_params:\n",
    "            for param in self.base_model.parameters():\n",
    "                param.requires_grad = False\n",
    "\n",
    "    def forward(self, input_ids, attention_mask):\n",
    "\n",
    "        output = self.base_model(input_ids=input_ids, attention_mask=attention_mask)\n",
    "        sequence_output = output[0]\n",
    "        pooled_output = sequence_output[:, 0]\n",
    "        pooled_output = self.dropout(pooled_output)\n",
    "        logits = self.classifier(pooled_output)\n",
    "\n",
    "        return logits"
   ]
  },
  {
   "cell_type": "markdown",
   "metadata": {
    "id": "eNUJOraXaFHZ"
   },
   "source": [
    "<h3> 6.3 Training one epoch function </h3>"
   ]
  },
  {
   "cell_type": "code",
   "execution_count": 100,
   "metadata": {
    "id": "S03lC_hlWOra"
   },
   "outputs": [],
   "source": [
    "def train_one_epoch(model, data_loader, loss_fn, optimizer, scheduler):\n",
    "    \"\"\"\n",
    "    :param model: model to train\n",
    "    :param data_loader: constructor to pass batches of data to process\n",
    "    :param loss_fn: loss/ cost function to minimise\n",
    "    :param optimizer: optimizer to minimise the loss\n",
    "    :param scheduler: policy to reduce the learning rate\n",
    "    :return: running loss and accuracy\n",
    "    \"\"\"\n",
    "\n",
    "    model = model.to(device)\n",
    "    model.train()\n",
    "\n",
    "    epoch_loss, correct = 0, 0\n",
    "\n",
    "    for batch in data_loader:\n",
    "\n",
    "        input_ids = batch['input_ids'].to(device)\n",
    "        attention_mask = batch['attention_mask'].to(device)\n",
    "        labels = batch['targets'].to(device)\n",
    "\n",
    "        optimizer.zero_grad()\n",
    "        output = model(input_ids, attention_mask)\n",
    "        loss = loss_fn(output, labels)\n",
    "        epoch_loss += loss.item()\n",
    "        \n",
    "        preds = torch.argmax(output, dim=-1)\n",
    "        correct += (preds == labels).sum().item()\n",
    "\n",
    "        loss.backward()\n",
    "        # nn.utils.clip_grad_norm_(model.parameters(), max_norm=1.0) \n",
    "        # prevents exploding gradients\n",
    "        optimizer.step()\n",
    "        scheduler.step()\n",
    "\n",
    "    return epoch_loss/len(data_loader),  correct/len(data_loader.dataset)"
   ]
  },
  {
   "cell_type": "markdown",
   "metadata": {
    "id": "W2vqxGtmaPWL"
   },
   "source": [
    "<h3> 6.4 Evalute function </h3>"
   ]
  },
  {
   "cell_type": "code",
   "execution_count": 101,
   "metadata": {
    "id": "9NcaoSg71s2A"
   },
   "outputs": [],
   "source": [
    "def evaluate(model, data_loader):\n",
    "    \"\"\"\n",
    "    :param model: model to evaluate\n",
    "    :param data_loader: constructor to process the data\n",
    "    :return: running loss and accuracy \n",
    "    \"\"\"\n",
    "\n",
    "    model.eval()\n",
    "\n",
    "    loss_fn = nn.CrossEntropyLoss()\n",
    "\n",
    "    eval_loss, correct = 0, 0\n",
    "\n",
    "    with torch.no_grad():\n",
    "\n",
    "        for batch in (data_loader):\n",
    "\n",
    "            input_ids = batch['input_ids'].to(device)\n",
    "            attention_mask = batch['attention_mask'].to(device)\n",
    "            labels = batch['targets'].to(device)\n",
    "            # get logits\n",
    "            output = model(input_ids, attention_mask) \n",
    "            # add loss\n",
    "            eval_loss += loss_fn(output, labels).item()\n",
    "\n",
    "            # compute predictions\n",
    "            preds = torch.argmax(output, dim=-1) \n",
    "            correct += (preds == labels).sum().item()\n",
    "\n",
    "    return eval_loss/len(data_loader), correct/len(data_loader.dataset)\n"
   ]
  },
  {
   "cell_type": "markdown",
   "metadata": {
    "id": "-K9WNCEGrCPr"
   },
   "source": [
    "<h3> 6.5 Building the main training function </h3>"
   ]
  },
  {
   "cell_type": "code",
   "execution_count": 102,
   "metadata": {
    "id": "3RxnWx_XA3RA"
   },
   "outputs": [],
   "source": [
    "def main(**kwargs):\n",
    "    \"\"\"\n",
    "    :param kwargs: a dictionary to create the model , loader and parametert to train \n",
    "    and validate the model.\n",
    "    :return: a dictionary with training stats, scheduler and the model.\n",
    "    \"\"\"\n",
    "\n",
    "    train_dataset = EmotionsDataset(kwargs['x_train'], kwargs['y_train'], \n",
    "                                    kwargs['tokenizer'], max_length=125)\n",
    "    val_dataset = EmotionsDataset(kwargs['x_val'], kwargs['y_val'], \n",
    "                                  kwargs['tokenizer'], max_length=125)\n",
    "\n",
    "    model =  EmotionClassifiers(kwargs['base_model'], kwargs['hidden'],\n",
    "                                kwargs['num_classes'], kwargs['dropout'])\n",
    "\n",
    "    train_dataloader = DataLoader(train_dataset, batch_size=kwargs['batch'],\n",
    "                                  shuffle=True, num_workers=2)\n",
    "    val_dataloader = DataLoader(val_dataset, batch_size=kwargs['batch'], \n",
    "                                shuffle= True, num_workers=2)\n",
    "\n",
    "    no_decay = ['bias', 'LayerNorm.weight']\n",
    "    grouped_parameters = [{'params': [p for n, p in model.named_parameters()\n",
    "                                          if not any(nd in n for nd in no_decay)],\n",
    "                               'weight_decay': kwargs['decay']},\n",
    "                              {'params': [p for n, p in model.named_parameters()\n",
    "                                          if any(nd in n for nd in no_decay)], \n",
    "                               'weight_decay': 0.0}]\n",
    "\n",
    "    optimizer = torch.optim.AdamW(grouped_parameters, lr=kwargs['lr'])\n",
    "    total_steps = len(train_dataloader) * kwargs['epochs']\n",
    "\n",
    "    if kwargs['scheduler'] == 'linear':\n",
    "        scheduler = get_linear_schedule_with_warmup(optimizer, num_warmup_steps=0,\n",
    "                                             num_training_steps=total_steps)\n",
    "    elif kwargs['scheduler'] == 'one_cycle':\n",
    "        scheduler = OneCycleLR(optimizer, max_lr= kwargs['lr'], \n",
    "                               steps_per_epoch=len(train_dataloader), \n",
    "                               epochs=kwargs['epochs'], pct_start=0.2)\n",
    "    else:\n",
    "        assert kwargs['scheduler'] in ['linear', 'one_cycle'], \\\n",
    "            'Input linear or one_cycle scheduler'\n",
    "\n",
    "    best_acc = -np.inf\n",
    "    stats_log = defaultdict(list)\n",
    "    n_steps = 0\n",
    "\n",
    "    for epoch in tqdm(range(kwargs['epochs'])):\n",
    "\n",
    "        epoch_start_time = time.time()\n",
    "\n",
    "        train_loss, train_acc = train_one_epoch(model, train_dataloader,\n",
    "                                                      kwargs['loss'], optimizer, scheduler)\n",
    "\n",
    "        print(scheduler.get_last_lr())\n",
    "        n_steps += len(train_dataloader)\n",
    "        val_loss, val_acc = evaluate(model, val_dataloader)\n",
    "\n",
    "        print('| End of epoch {:2d} | time: {:.2f}s | train loss {:.4f} | '\n",
    "            'train_acc {:.2f}%'.format(epoch+1, (time.time() - epoch_start_time),\n",
    "                                        train_loss, train_acc*100))\n",
    "\n",
    "        print('| Steps {}| val loss {:.4f} | '\n",
    "            'val_acc {:.2f}%'.format(n_steps, val_loss, val_acc*100))\n",
    "     \n",
    "\n",
    "        # save the best model\n",
    "        if val_acc > best_acc:\n",
    "            best_acc = val_acc\n",
    "            torch.save({\n",
    "              'epoch': epoch + 1,\n",
    "              'model': model.state_dict(),\n",
    "              'optimizer': optimizer.state_dict(),'scheduler':scheduler.state_dict(),\n",
    "              'acc': best_acc, 'lr': scheduler.get_last_lr(),\n",
    "              'stats': stats_log\n",
    "              }, os.path.join(kwargs['output_dir'], 'best_model_{}.pt'.format(kwargs['exp'])))\n",
    "            print('saved')\n",
    "\n",
    "        stats_log['train_acc'].append(train_acc)\n",
    "        stats_log['train_loss'].append(train_loss)\n",
    "        stats_log['val_acc'].append(val_acc)\n",
    "        stats_log['val_loss'].append(val_loss)\n",
    "        stats_log['steps'].append(n_steps)\n",
    "\n",
    "    return stats_log, model, scheduler\n"
   ]
  },
  {
   "cell_type": "markdown",
   "metadata": {
    "id": "Om5rmsMVFuhb"
   },
   "source": [
    "<h2>7. Experimental setup</h2>"
   ]
  },
  {
   "cell_type": "markdown",
   "metadata": {
    "id": "w2GjVwWkI4pW"
   },
   "source": [
    "A total 24 experiments will be run as product of the combination of the following:\n",
    " \n",
    " - Base models - BERT, DistilBERT, RoBERTa\n",
    " - The loss function to be minimised - wCE and CE (Cross entropy and Weighted Cross entropy)\n",
    " - Schedulers - linear and one cycle learning rate policies\n",
    " - Learning rate - two rates at which the algorithm learns"
   ]
  },
  {
   "cell_type": "code",
   "execution_count": 103,
   "metadata": {
    "id": "QGnjkoXGFriA"
   },
   "outputs": [],
   "source": [
    "exps =[i+1 for i in range(0, 24)]\n",
    "models = ['bert', 'distilbert', 'roberta'] * 8\n",
    "exp_loss= ['wCE' if i > 11 else 'CE' for i in range(0, 24)]\n",
    "lr_rates = [8e-6 if i > 5 else 1e-5 for i in range(0, 12)] * 2\n",
    "schedulers =  ['linear' if i > 2 else 'one_cycle' for i in range(0, 6)] * 4"
   ]
  },
  {
   "cell_type": "code",
   "execution_count": 104,
   "metadata": {
    "id": "moNDshVyIL0t"
   },
   "outputs": [],
   "source": [
    "setup = pd.DataFrame({'Exp':exps,'Network': models, 'Loss': exp_loss, 'lr':lr_rates, \n",
    "                      'scheduler': schedulers})\n",
    "setup.set_index('Exp', inplace=True)"
   ]
  },
  {
   "cell_type": "markdown",
   "metadata": {
    "id": "GfhzpzlndbCk"
   },
   "source": [

    "\n",
    "| Experiment |  Network   | Loss | Learning<br />rate | Learning<br/>policy |\n",
    "|:----------:|:----------:|:----:|:------------------:|:-------------------:|\n",
    "| 01         |    BERT    |  CE  |       1e-05        |     one\\_cycle      |\n",
    "| 02         | DistilBERT |  CE  |       1e-05        |     one\\_cycle      |\n",
    "| 03         |  RoBERTa   |  CE  |       1e-05        |     one\\_cycle      |\n",
    "| 04         |    BERT    |  CE  |       1e-05        |       linear        |\n",
    "| 05         | DistilBERT |  CE  |       1e-05        |       linear        |\n",
    "| 06         |  RoBERTa   |  CE  |       1e-05        |       linear        |\n",
    "| 07         |    BERT    |  CE  |       8e-06        |     one\\_cycle      |\n",
    "| 08         | DistilBERT |  CE  |       8e-06        |     one\\_cycle      |\n",
    "| 09         |  RoBERTa   |  CE  |       8e-06        |     one\\_cycle      |\n",
    "| 10         |    BERT    |  CE  |       8e-06        |       linear        |\n",
    "| 11         | DistilBERT |  CE  |       8e-06        |       linear        |\n",
    "| 12         |  RoBERTa   |  CE  |       8e-06        |       linear        |\n",
    "| 13         |    BERT    | wCE  |       1e-05        |     one\\_cycle      |\n",
    "| 14         | DistilBERT | wCE  |       1e-05        |     one\\_cycle      |\n",
    "| 15         |  RoBERTa   | wCE  |       1e-05        |     one\\_cycle      |\n",
    "| 16         |    BERT    | wCE  |       1e-05        |       linear        |\n",
    "| 17         | DistilBERT | wCE  |       1e-05        |       linear        |\n",
    "| 18         |  RoBERTa   | wCE  |       1e-05        |       linear        |\n",
    "| 19         |    BERT    | wCE  |       8e-06        |     one\\_cycle      |\n",
    "| 20         | DistilBERT | wCE  |       8e-06        |     one\\_cycle      |\n",
    "| 21         |  RoBERTa   | wCE  |       8e-06        |     one\\_cycle      |\n",
    "| 22         |    BERT    | wCE  |       8e-06        |       linear        |\n",
    "| 23         | DistilBERT | wCE  |       8e-06        |       linear        |\n",
    "| 24         |  RoBERTa   | wCE  |       8e-06        |       linear        | \n",
    "    \n"

   ]
  },
  {
   "cell_type": "markdown",
   "metadata": {
    "id": "IRuTm8vwSx7X"
   },
   "source": [
    "<h3> 7.1 Loss function </h3>"
   ]
  },
  {
   "cell_type": "markdown",
   "metadata": {
    "id": "hpNvshIuIL5-"
   },
   "source": [
    "- **Building weights for cross entropy loss fuction -Imbalaced dataset**"
   ]
  },
  {
   "cell_type": "code",
   "execution_count": 105,
   "metadata": {
    "id": "U6l8VtPQLNJt"
   },
   "outputs": [],
   "source": [
    "class_weights = class_weight.compute_class_weight(class_weight='balanced', \n",
    "                                                classes=np.unique(y_train), y=y_train)\n",
    "weights = torch.tensor(class_weights, dtype=torch.float)"
   ]
  },
  {
   "cell_type": "markdown",
   "metadata": {
    "id": "4I7L2j__oCBr"
   },
   "source": [
    "- __Building the loss function__"
   ]
  },
  {
   "cell_type": "code",
   "execution_count": 106,
   "metadata": {
    "id": "xDMaGkDnwDR8"
   },
   "outputs": [],
   "source": [
    "# https://pytorch.org/docs/stable/generated/torch.nn.CrossEntropyLoss.html \n",
    "\n",
    "# Weights for imbalanced dataset - feed the weights to the cross entropy\n",
    "w_criterion = nn.CrossEntropyLoss(weight=weights).to(device)\n",
    "\n",
    "# Cross entropy\n",
    "criterion = nn.CrossEntropyLoss().to(device)"
   ]
  },
  {
   "cell_type": "markdown",
   "metadata": {
    "id": "YcBIc_ssY6Dp"
   },
   "source": [
    "<h3> 7.2 Preparing tokenizers and base models for training </h3>"
   ]
  },
  {
   "cell_type": "markdown",
   "metadata": {
    "id": "EL-HQpPQCJcf"
   },
   "source": [
    "\n",
    "- **Prepare tokenizers**"
   ]
  },
  {
   "cell_type": "code",
   "execution_count": 107,
   "metadata": {
    "id": "MLpnePpHxg_1"
   },
   "outputs": [],
   "source": [
    "# Create the tokenizers\n",
    "bert_tokenizer = BertTokenizerFast.from_pretrained('bert-base-uncased', \n",
    "                                                   clean_text=True)\n",
    "dist_tokenizer = DistilBertTokenizerFast.from_pretrained('distilbert-base-uncased', \n",
    "                                                         clean_text=True)\n",
    "rob_tokenizer = RobertaTokenizerFast.from_pretrained('roberta-base', \n",
    "                                                     clean_text=True)\n"
   ]
  },
  {
   "cell_type": "markdown",
   "metadata": {
    "id": "G1SfnRX-Cd5S"
   },
   "source": [
    "- **Extract the base models to buil the classifiers**\n"
   ]
  },
  {
   "cell_type": "code",
   "execution_count": 108,
   "metadata": {
    "colab": {
     "base_uri": "https://localhost:8080/"
    },
    "id": "v_wmGBpsxP_l",
    "outputId": "91dbc085-0226-49ae-c9f1-abfd2335a76c"
   },
   "outputs": [
    {
     "name": "stderr",
     "output_type": "stream",
     "text": [
      "Some weights of the model checkpoint at bert-base-uncased were not used when initializing BertModel: ['cls.predictions.decoder.weight', 'cls.predictions.transform.dense.weight', 'cls.predictions.transform.LayerNorm.weight', 'cls.seq_relationship.weight', 'cls.predictions.transform.LayerNorm.bias', 'cls.seq_relationship.bias', 'cls.predictions.bias', 'cls.predictions.transform.dense.bias']\n",
      "- This IS expected if you are initializing BertModel from the checkpoint of a model trained on another task or with another architecture (e.g. initializing a BertForSequenceClassification model from a BertForPreTraining model).\n",
      "- This IS NOT expected if you are initializing BertModel from the checkpoint of a model that you expect to be exactly identical (initializing a BertForSequenceClassification model from a BertForSequenceClassification model).\n",
      "Some weights of the model checkpoint at distilbert-base-uncased were not used when initializing DistilBertModel: ['vocab_transform.bias', 'vocab_layer_norm.bias', 'vocab_projector.weight', 'vocab_layer_norm.weight', 'vocab_projector.bias', 'vocab_transform.weight']\n",
      "- This IS expected if you are initializing DistilBertModel from the checkpoint of a model trained on another task or with another architecture (e.g. initializing a BertForSequenceClassification model from a BertForPreTraining model).\n",
      "- This IS NOT expected if you are initializing DistilBertModel from the checkpoint of a model that you expect to be exactly identical (initializing a BertForSequenceClassification model from a BertForSequenceClassification model).\n",
      "Some weights of the model checkpoint at roberta-base were not used when initializing RobertaModel: ['lm_head.layer_norm.weight', 'lm_head.layer_norm.bias', 'lm_head.bias', 'lm_head.dense.weight', 'lm_head.decoder.weight', 'lm_head.dense.bias']\n",
      "- This IS expected if you are initializing RobertaModel from the checkpoint of a model trained on another task or with another architecture (e.g. initializing a BertForSequenceClassification model from a BertForPreTraining model).\n",
      "- This IS NOT expected if you are initializing RobertaModel from the checkpoint of a model that you expect to be exactly identical (initializing a BertForSequenceClassification model from a BertForSequenceClassification model).\n"
     ]
    }
   ],
   "source": [
    "# Get the base model to build the classifiers\n",
    "bert = BertModel.from_pretrained('bert-base-uncased')\n",
    "distbert = DistilBertModel.from_pretrained('distilbert-base-uncased')\n",
    "roberta = RobertaModel.from_pretrained('roberta-base')"
   ]
  },
  {
   "cell_type": "markdown",
   "metadata": {
    "id": "ut14eRsgEuB6"
   },
   "source": [
    "<h2> 8. Training the classifier </h2>\n",
    "\n",
    "<h3> 8.1 Training hyparameters </h3>"
   ]
  },
  {
   "cell_type": "code",
   "execution_count": 110,
   "metadata": {
    "id": "hgCwNypE9ttU"
   },
   "outputs": [],
   "source": [
    "# Create an output diretory to store the weights\n",
    "outdir = os.path.join(os.getcwd(), 'weights')\n",
    "os.makedirs(outdir, exist_ok=True)\n",
    "\n",
    "exp = 24\n",
    "exp_model = setup.Network.loc[exp]\n",
    "exp_loss = setup.Loss.loc[exp]\n",
    "lr = setup.lr.loc[exp]\n",
    "policy = setup.scheduler.loc[exp]\n",
    "\n",
    "if exp_loss == 'CE':\n",
    "    loss = criterion\n",
    "else:\n",
    "    loss = w_criterion\n",
    "\n",
    "if exp_model == 'bert': \n",
    "    tokenizer = bert_tokenizer\n",
    "    base_model = bert\n",
    "\n",
    "if exp_model == 'distilbert': \n",
    "    tokenizer = dist_tokenizer\n",
    "    base_model = distbert\n",
    "\n",
    "else:\n",
    "    tokenizer = rob_tokenizer\n",
    "    base_model = roberta\n",
    "\n",
    "# Dictionary of hyperameters to run the experiments\n",
    "params = {'exp': exp, 'base_model': base_model, 'tokenizer': tokenizer, \n",
    "          'hidden': [768, 512], 'num_classes': len(emotions),'dropout': 0.3, 'batch': 16,\n",
    "          'lr': lr, 'decay': 0.01, 'x_train': X_train, 'y_train': y_train, 'x_val': X_val,\n",
    "          'y_val':y_val, 'loss': loss, 'epochs': 4, 'scheduler': policy, \n",
    "          'output_dir': outdir}"
   ]
  },
  {
   "cell_type": "markdown",
   "metadata": {
    "id": "yxrOgW9ykzcD"
   },
   "source": [
    "<h3> 8.2 Start training</h3>"
   ]
  },
  {
   "cell_type": "code",
   "execution_count": null,
   "metadata": {
    "id": "ZgbWYtJPnaFJ"
   },
   "outputs": [],
   "source": [
    "print('Exp: {} | Model: {} | Loss: {} | Learning rate: {} | '\n",
    "      'Policy: {}'.format(exp, exp_model, exp_loss, lr, policy))\n",
    "\n",
    "# Invoking method to start training\n",
    "train_stats, model_, last_lr = main(**params)"
   ]
  },
  {
   "cell_type": "code",
   "execution_count": null,
   "metadata": {
    "id": "OQPzBNwEiiDr"
   },
   "outputs": [],
   "source": [
    "print('Last learning rate: ', last_lr.get_last_lr())"
   ]
  },
  {
   "cell_type": "markdown",
   "metadata": {
    "id": "bf4xsdKl1QYo"
   },
   "source": [
    "<h3> 8.3 Extracting performance metrics from training  and validation</h3>"
   ]
  },
  {
   "cell_type": "code",
   "execution_count": 116,
   "metadata": {
    "id": "_G9lma9CA3RE"
   },
   "outputs": [],
   "source": [
    "tr_acc, tr_loss, v_acc, v_loss= train_metrics(**train_stats)"
   ]
  },
  {
   "cell_type": "markdown",
   "metadata": {
    "id": "O8ih_EbmTOMF"
   },
   "source": [
    "<h3> 8.4 Visualising training results </h3>"
   ]
  },
  {
   "cell_type": "code",
   "execution_count": 117,
   "metadata": {
    "id": "7M-u3okcF-I6"
   },
   "outputs": [],
   "source": [
    "def plot_stats(exp=exp, hideplot=False, n_epochs=4, **stats):\n",
    "    \"\"\"\n",
    "    :param hideplot: boolean to show or training and validation plot\n",
    "    :param stats: a dictionary with the loss and accuracy for training and validation\n",
    "    :return: plots for accuracy and  loss\n",
    "    \"\"\"\n",
    "    \n",
    "    plots_dir = os.path.join(os.getcwd(), 'plots')\n",
    "    os.makedirs(plots_dir, exist_ok=True)\n",
    "    \n",
    "    # Plot the loss per epoch\n",
    "    fig1 = plt.figure(figsize=(8,4))\n",
    "    x =  np.arange(1,  n_epochs+1) \n",
    "    plt.plot(x, stats['train_loss'], label='train')\n",
    "    plt.plot(x, stats['val_loss'], label='val')\n",
    "    plt.xticks(range(1, n_epochs+1))\n",
    "    plt.title(\"Loss trend\")\n",
    "    plt.xlabel(\"Epoch\")\n",
    "    plt.ylabel(\"Loss\")\n",
    "    plt.legend()\n",
    "    plt.savefig(os.path.join(plots_dir, 'loss_{}.png'.format(exp)))\n",
    "    if hideplot:\n",
    "        plt.close(fig1)\n",
    "    else:\n",
    "        plt.rcParams.update({'font.size': 10})\n",
    "        plt.show(fig1)\n",
    "\n",
    "    # Plot accuracy per epoch\n",
    "    fig2 = plt.figure(figsize=(8,4))\n",
    "    x =  np.arange(1,  n_epochs+1) \n",
    "    plt.plot(x, stats['train_acc'], label='train')\n",
    "    plt.plot(x, stats['val_acc'], label='val')\n",
    "    plt.xticks(range(1, n_epochs+1))\n",
    "    plt.title(\"Accuracy trend\")\n",
    "    plt.xlabel(\"Epoch\")\n",
    "    plt.ylabel(\"Accuracy\")\n",
    "    plt.legend()\n",
    "    plt.savefig(os.path.join(plots_dir, 'acc_{}.png'.format(exp)))\n",
    "    if hideplot:\n",
    "        plt.close(fig2)\n",
    "    else:\n",
    "        plt.rcParams.update({'font.size': 10})\n",
    "        plt.show(fig2)\n",
    "\n",
    "    return fig1, fig2\n",
    "    "
   ]
  },
  {
   "cell_type": "code",
   "execution_count": null,
   "metadata": {
    "id": "zcPR90OwLhyG"
   },
   "outputs": [],
   "source": [
    "plot_stats(exp, hideplot=False, n_epochs=params['epochs'], **train_stats)"
   ]
  },
  {
   "cell_type": "markdown",
   "metadata": {
    "id": "XcF-fvAQMW_A"
   },
   "source": [
    "<h2> 9. Evaluate the model on the test dataset\n",
    "\n",
    "### **Metrics**\n",
    "\n",
    "- Accuracy \n",
    "- Balanced Accuracy\n",
    "- F1 Score\n",
    "- Matthew's Correlation Coefficient\n",
    "- Precision\n",
    "- Recall\n",
    "- AUROC"
   ]
  },
  {
   "cell_type": "markdown",
   "metadata": {
    "id": "QHHawIr91QYp"
   },
   "source": [
    "<h3> 9.1 Build test dataset and dataloader </h3>"
   ]
  },
  {
   "cell_type": "code",
   "execution_count": 121,
   "metadata": {
    "id": "a8r_uKxRH3BV"
   },
   "outputs": [],
   "source": [
    "test_dataset = EmotionsDataset(X_test, y_test, params['tokenizer'], max_length=125)"
   ]
  },
  {
   "cell_type": "code",
   "execution_count": 122,
   "metadata": {
    "id": "g-70RDCS5NAH"
   },
   "outputs": [],
   "source": [
    "prediction_sampler = SequentialSampler(test_dataset)"
   ]
  },
  {
   "cell_type": "code",
   "execution_count": 123,
   "metadata": {
    "id": "KrclEst9A3RB"
   },
   "outputs": [],
   "source": [
    "test_dataloader = DataLoader(test_dataset, batch_size= 16, sampler=prediction_sampler)"
   ]
  },
  {
   "cell_type": "markdown",
   "metadata": {
    "id": "GzPLO4Im1QYq"
   },
   "source": [
    "<h3>9.2 Load best trained weights onto model</h3>"
   ]
  },
  {
   "cell_type": "code",
   "execution_count": 124,
   "metadata": {
    "id": "5N1Nq3SexF1Y"
   },
   "outputs": [],
   "source": [
    "checkpoint=torch.load(os.path.join(outdir, 'best_model_{}.pt'.format(params['exp'])))"
   ]
  },
  {
   "cell_type": "code",
   "execution_count": null,
   "metadata": {
    "id": "Avwl__esxvNl"
   },
   "outputs": [],
   "source": [
    "model_.load_state_dict(checkpoint['model'], strict=False)"
   ]
  },
  {
   "cell_type": "markdown",
   "metadata": {
    "id": "SsTqfCgB1QYq"
   },
   "source": [
    "<h3> 9.3 Get predictions </h3>"
   ]
  },
  {
   "cell_type": "markdown",
   "metadata": {
    "id": "iguYl9UC1QYq"
   },
   "source": [
    "-  **Build function to read predictions**"
   ]
  },
  {
   "cell_type": "code",
   "execution_count": 126,
   "metadata": {
    "id": "P11UBrBgTgBg"
   },
   "outputs": [],
   "source": [
    "def get_predictions(model, data_loader):\n",
    "    \"\"\"\n",
    "    Calculates predictions on test dataset\n",
    "    returns list of probabilities, true and predicted labels\n",
    "    \"\"\"\n",
    "\n",
    "    model = model.eval()\n",
    "\n",
    "    sent_texts = []\n",
    "    predictions = []\n",
    "    prediction_probs = []\n",
    "    true_labels = []\n",
    "\n",
    "    with torch.no_grad():\n",
    "        for batch in data_loader:\n",
    "\n",
    "            texts = batch[\"sent_text\"]\n",
    "            input_ids = batch[\"input_ids\"].to(device)\n",
    "            attention_mask = batch[\"attention_mask\"].to(device)\n",
    "            targets = batch[\"targets\"].to(device)\n",
    "\n",
    "            output = model(\n",
    "            input_ids=input_ids,\n",
    "            attention_mask=attention_mask\n",
    "            )\n",
    "            preds = torch.argmax(output, dim=1)\n",
    "            probs = F.softmax(output, dim=1)\n",
    "\n",
    "            sent_texts.extend(texts)\n",
    "            predictions.extend(preds)\n",
    "            prediction_probs.append(probs)\n",
    "            true_labels.extend(targets)\n",
    "\n",
    "    predictions = torch.stack(predictions).cpu()\n",
    "    prediction_probs = torch.cat(prediction_probs)\n",
    "    true_values = torch.stack(true_labels).cpu()\n",
    "\n",
    "    return sent_texts, predictions, prediction_probs, true_values"
   ]
  },
  {
   "cell_type": "markdown",
   "metadata": {
    "id": "3AuJybbv1QYq"
   },
   "source": [
    "- **Compute predictions and probabilities**"
   ]
  },
  {
   "cell_type": "code",
   "execution_count": 127,
   "metadata": {
    "id": "xKUho8RJTrIn"
   },
   "outputs": [],
   "source": [
    "y_review_texts, y_pred, y_probs, y_true = get_predictions(\n",
    "  model_, test_dataloader)"
   ]
  },
  {
   "cell_type": "markdown",
   "metadata": {
    "id": "tnlJv7cz1QYr"
   },
   "source": [
    "- **Save true labels**"
   ]
  },
  {
   "cell_type": "code",
   "execution_count": 128,
   "metadata": {
    "id": "0hYp1FQN1QYr"
   },
   "outputs": [],
   "source": [
    "if exp == 1:\n",
    "    true_dir = os.path.join(os.getcwd(), 'true_labels')\n",
    "    # create a directory for the true labels\n",
    "    os.makedirs(true_dir, exist_ok=True)\n",
    "    # save the true labels in npz format\n",
    "    true_labels = save_file(y_true, true_dir, 'true_labels{}.npz'.format(exp))"
   ]
  },
  {
   "cell_type": "code",
   "execution_count": 129,
   "metadata": {
    "id": "8MowCc0WaMKk"
   },
   "outputs": [],
   "source": [
    "# create a directory for the prediction\n",
    "pred_path = os.path.join(os.getcwd(), 'predictions')\n",
    "os.makedirs(pred_path, exist_ok=True)\n",
    "\n",
    "# Save predictions in npz format\n",
    "save_file(y_pred, pred_path, 'pred_exp{}.npz'.format(exp))"
   ]
  },
  {
   "cell_type": "markdown",
   "metadata": {
    "id": "MX4R7ijrA3RD"
   },
   "source": [
    "<h3> 9.4 Evaluation Metrics </h3>"
   ]
  },
  {
   "cell_type": "code",
   "execution_count": 130,
   "metadata": {
    "id": "u5pPzs_bA3RD"
   },
   "outputs": [],
   "source": [
    "metrics = Metrics(y_true, y_pred, y_probs, emotions)"
   ]
  },
  {
   "cell_type": "code",
   "execution_count": null,
   "metadata": {
    "id": "lTE11SXBA3RD"
   },
   "outputs": [],
   "source": [
    "# Show confusion matrix\n",
    "metrics.cmatrix()"
   ]
  },
  {
   "cell_type": "code",
   "execution_count": null,
   "metadata": {
    "id": "1gs8l0znA3RD"
   },
   "outputs": [],
   "source": [
    "print('Classification report', metrics.classification_rep(), sep='\\n')"
   ]
  },
  {
   "cell_type": "code",
   "execution_count": null,
   "metadata": {
    "id": "spZ-0wgxbn0q"
   },
   "outputs": [],
   "source": [
    "ba = metrics.balanced_acc()\n",
    "mcc = metrics.mcc()\n",
    "acc = metrics.acc()\n",
    "auroc = metrics.auroc()\n",
    "precision, recall, f1, pre_class, rec_class, f1_class = metrics.macro_average()"
   ]
  },
  {
   "cell_type": "code",
   "execution_count": 134,
   "metadata": {
    "id": "wsOqUSIyB-Wd"
   },
   "outputs": [],
   "source": [
    "epoch= checkpoint['epoch'] "
   ]
  },
  {
   "cell_type": "code",
   "execution_count": 135,
   "metadata": {
    "id": "I6fvdQZaUlP7"
   },
   "outputs": [],
   "source": [
    "metrics_ = [['Date', date.today()], ['exp', params['exp']],\n",
    "            ['Architecture', exp_model], ['loss', exp_loss], \n",
    "            ['lr', params['lr']], ['Test acc', np.round(acc,4)], \n",
    "            ['scheduler', params['scheduler']], ['BA', np.round(ba, 4)], \n",
    "            ['F1 macro', np.round(f1, 4)],\n",
    "            ['Recall', np.round(recall, 4)],\n",
    "            ['Precision', np.round(precision, 4)],\n",
    "            ['MCC', np.round(mcc, 4)],\n",
    "            ['AUROC', np.round(auroc.item(),4)],\n",
    "            ['F1 per class', np.round(f1_class, 4)],\n",
    "            ['Recall per class', np.round(rec_class, 4)], \n",
    "             ['Pres per class', np.round(pre_class, 4)], ['epoch', epoch],\n",
    "            ['train_acc', np.round(tr_acc, 4)], ['val_acc', np.round(v_acc, 4)]]"
   ]
  },
  {
   "cell_type": "code",
   "execution_count": 136,
   "metadata": {
    "id": "ENAl_ToqWCgy"
   },
   "outputs": [],
   "source": [
    "df_metrics = pd.DataFrame(metrics_, columns= ['Metric','Value'],\n",
    "                          index = [i for i in range(len(metrics_))])"
   ]
  },
  {
   "cell_type": "code",
   "execution_count": 137,
   "metadata": {
    "id": "Mkhx5JCwWp4P"
   },
   "outputs": [],
   "source": [
    "# Transpose  the evaluation results and saved them into csv file\n",
    "df_metrics= df_metrics.T\n",
    "df_metrics.rename(columns=df_metrics.iloc[0], inplace=True)\n",
    "df_metrics.drop(df_metrics.index[0], inplace = True)"
   ]
  },
  {
   "cell_type": "code",
   "execution_count": 139,
   "metadata": {
    "id": "QMy7krzxWFN-"
   },
   "outputs": [],
   "source": [
    "# Save metrics into csv file\n",
    "fname = 'exp_' + str(exp) + '.csv'\n",
    "stats_dir = os.path.join(os.getcwd(), 'metrics')\n",
    "os.makedirs(stats_dir, exist_ok=True)\n",
    "df_metrics.to_csv(os.path.join(stats_dir, fname))"
   ]
  },
  {
   "cell_type": "markdown",
   "metadata": {
    "id": "NxyyKkMJ1QYs"
   },
   "source": [
    "<h3> 10. Ranking the models performance </h3>"
   ]
  },
  {
   "cell_type": "code",
   "execution_count": 140,
   "metadata": {
    "id": "lQ1xIjoY7B9s"
   },
   "outputs": [],
   "source": [
    "eval_dir= 'metrics'\n",
    "models_list = natsorted(os.listdir('metrics'))\n",
    "models_list =  [m for m in models_list if m != '.DS_Store']"
   ]
  },
  {
   "cell_type": "code",
   "execution_count": 141,
   "metadata": {
    "id": "0HeIy8BJ7B9s"
   },
   "outputs": [],
   "source": [
    "df2_metrics = get_metrics(models_list, eval_dir)"
   ]
  },
  {
   "cell_type": "code",
   "execution_count": 142,
   "metadata": {
    "id": "jK1vb9lT7B9t"
   },
   "outputs": [],
   "source": [
    "df2_metrics = df2_metrics[['Test acc', 'BA', 'F1 macro', 'Recall', 'Precision', 'MCC', 'epoch']]"
   ]
  },
  {
   "cell_type": "code",
   "execution_count": 143,
   "metadata": {
    "id": "FqyYkLNE7B9t"
   },
   "outputs": [],
   "source": [
    "df2_metrics.rename(columns={'Test acc': 'Acc', 'F1 macro': 'F1', 'Recall': 'Rec', \n",
    "                             'Precision': 'Prec', 'epoch': 'Epoch'}, inplace=True)"
   ]
  },
  {
   "cell_type": "code",
   "execution_count": 144,
   "metadata": {
    "id": "B0owoBaekMmd"
   },
   "outputs": [],
   "source": [
    "ranks = df2_metrics[['Acc', 'BA', 'F1', 'Rec', 'Prec', 'MCC']].rank(ascending=False)"
   ]
  },
  {
   "cell_type": "code",
   "execution_count": 145,
   "metadata": {
    "id": "4e9wNIxo7B9t"
   },
   "outputs": [],
   "source": [
    "ranks['Epoch'] = df2_metrics['Epoch'].rank( ascending=True)"
   ]
  },
  {
   "cell_type": "code",
   "execution_count": 146,
   "metadata": {
    "id": "iSnnW2psdsth"
   },
   "outputs": [],
   "source": [
    "setup_rank = pd.concat([setup, ranks], axis=1)"
   ]
  },
  {
   "cell_type": "code",
   "execution_count": 147,
   "metadata": {
    "id": "npcAGRN77B9t"
   },
   "outputs": [],
   "source": [
    "ranked_metrics = pd.concat([df2_metrics, ranks], axis=1)"
   ]
  },
  {
   "cell_type": "code",
   "execution_count": 148,
   "metadata": {
    "id": "X2W40wbw9H7i"
   },
   "outputs": [],
   "source": [
    "# create a directory for the ranks\n",
    "ranks_csv = os.path.join(os.getcwd(), 'ranks')\n",
    "os.makedirs(ranks_csv, exist_ok=True)\n",
    "\n",
    "# Save ranks in csv file\n",
    "fname = 'all_ranks' + '.csv'\n",
    "ranked_metrics.to_csv(os.path.join(ranks_csv, fname))\n"
   ]
  }
 ],
 "metadata": {
  "accelerator": "GPU",
  "colab": {
   "collapsed_sections": [],
   "machine_shape": "hm",
   "name": "emotion_analysis2.ipynb",
   "provenance": []
  },
  "gpuClass": "standard",
  "kernelspec": {
   "display_name": "Python 3 (ipykernel)",
   "language": "python",
   "name": "python3"
  },
  "language_info": {
   "codemirror_mode": {
    "name": "ipython",
    "version": 3
   },
   "file_extension": ".py",
   "mimetype": "text/x-python",
   "name": "python",
   "nbconvert_exporter": "python",
   "pygments_lexer": "ipython3",
   "version": "3.8.13"
  }
 },
 "nbformat": 4,
 "nbformat_minor": 1
}
